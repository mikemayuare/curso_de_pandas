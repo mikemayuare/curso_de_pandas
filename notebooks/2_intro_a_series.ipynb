{
 "cells": [
  {
   "metadata": {},
   "cell_type": "markdown",
   "source": [
    "## Series y DataFrames\n",
    "\n",
    "- [Guía de markdown - enlace](https://www.markdownguide.org/cheat-sheet/)\n",
    "- [Video de YouTube](https://youtu.be/eobhLRplzk8)\n",
    "\n",
    "En este notebook veremos las dos principales estructuras de datos de pandas, `Series` y `DataFrames`.\n",
    "\n",
    "Una `Series` es un arreglo (array) unidimensional y un `DataFrame` es un array de dos dimensiones usado para representar data tabular, donde cada columna seria una `Series`.\n",
    "\n",
    "Muchos de los métodos usados para los `DataFrames` sirven para las `Series` por lo que nos enfocaremos en este último.\n",
    "\n",
    "### Ejemplo de `Series`"
   ],
   "id": "5bdf7dcd6db17c0f"
  },
  {
   "metadata": {
    "ExecuteTime": {
     "end_time": "2025-03-16T15:05:29.820268Z",
     "start_time": "2025-03-16T15:05:29.585046Z"
    }
   },
   "cell_type": "code",
   "source": "import pandas as pd",
   "id": "950de2a6d8608499",
   "outputs": [],
   "execution_count": 1
  },
  {
   "metadata": {},
   "cell_type": "markdown",
   "source": "Podemos usar el ejemplo del notebook anterior para contruis una `Series`.",
   "id": "74c0fcd1f0a86822"
  },
  {
   "metadata": {
    "ExecuteTime": {
     "end_time": "2025-03-16T15:05:29.824797Z",
     "start_time": "2025-03-16T15:05:29.822964Z"
    }
   },
   "cell_type": "code",
   "source": [
    "# datos\n",
    "\n",
    "series = {\n",
    "    \"colores\": [\"rojo\", \"naranja\", \"verde\", \"amarillo\"],\n",
    "    \"frutas\": [\"manzana\", \"mandarina\", \"kiwi\", \"pina\"]\n",
    "}\n"
   ],
   "id": "e4aa9b18dcc7704",
   "outputs": [],
   "execution_count": 2
  },
  {
   "metadata": {
    "ExecuteTime": {
     "end_time": "2025-03-16T15:05:29.889490Z",
     "start_time": "2025-03-16T15:05:29.884855Z"
    }
   },
   "cell_type": "code",
   "source": "pd.Series(series)",
   "id": "5378456bf9b1587",
   "outputs": [
    {
     "data": {
      "text/plain": [
       "colores    [rojo, naranja, verde, amarillo]\n",
       "frutas     [manzana, mandarina, kiwi, pina]\n",
       "dtype: object"
      ]
     },
     "execution_count": 3,
     "metadata": {},
     "output_type": "execute_result"
    }
   ],
   "execution_count": 3
  },
  {
   "metadata": {},
   "cell_type": "markdown",
   "source": [
    "La razón por la que no se ve como se espera es porque las `Series` son unidimensionales y la data que introdujimos tiene dos dimensiones por lo que ha tomados las keys como `index` y el resto como los valores.\n",
    "\n",
    "Las `Series` a pesar de ser unidimensional, tienen varios atributos, dos de ellos son el nombre de la `Series` y el índice o `index`.\n",
    "\n",
    "Ahora definámoslo correctamente."
   ],
   "id": "eb5add0f0d60bf75"
  },
  {
   "metadata": {
    "ExecuteTime": {
     "end_time": "2025-03-16T15:05:29.951132Z",
     "start_time": "2025-03-16T15:05:29.947638Z"
    }
   },
   "cell_type": "code",
   "source": [
    "pd.Series(\n",
    "    [\"rojo\", \"naranja\", \"verde\", \"amarillo\"],\n",
    "    name=\"colores\",\n",
    "    index=[\"manzana\", \"mandarina\", \"kiwi\", \"pina\"],\n",
    ")"
   ],
   "id": "b57966357660f000",
   "outputs": [
    {
     "data": {
      "text/plain": [
       "manzana          rojo\n",
       "mandarina     naranja\n",
       "kiwi            verde\n",
       "pina         amarillo\n",
       "Name: colores, dtype: object"
      ]
     },
     "execution_count": 4,
     "metadata": {},
     "output_type": "execute_result"
    }
   ],
   "execution_count": 4
  },
  {
   "metadata": {},
   "cell_type": "markdown",
   "source": "No es necesario definir un `index`, la mayoría de las veces no es definido in este es creado automáticamente de manera incremental desde cero.",
   "id": "ec7f2e26b8a2cc40"
  },
  {
   "metadata": {
    "ExecuteTime": {
     "end_time": "2025-03-16T15:05:29.996390Z",
     "start_time": "2025-03-16T15:05:29.993006Z"
    }
   },
   "cell_type": "code",
   "source": [
    "colores = pd.Series(\n",
    "    [\"rojo\", \"naranja\", \"verde\", \"amarillo\"],\n",
    "    name=\"colores\",\n",
    ")\n",
    "\n",
    "colores"
   ],
   "id": "ca7c79fa14b050e1",
   "outputs": [
    {
     "data": {
      "text/plain": [
       "0        rojo\n",
       "1     naranja\n",
       "2       verde\n",
       "3    amarillo\n",
       "Name: colores, dtype: object"
      ]
     },
     "execution_count": 5,
     "metadata": {},
     "output_type": "execute_result"
    }
   ],
   "execution_count": 5
  },
  {
   "metadata": {
    "ExecuteTime": {
     "end_time": "2025-03-16T15:05:30.048781Z",
     "start_time": "2025-03-16T15:05:30.045609Z"
    }
   },
   "cell_type": "code",
   "source": [
    "frutas = pd.Series(\n",
    "    [\"manzana\", \"mandarina\", \"kiwi\", \"pina\"],\n",
    "    name=\"frutas\",\n",
    ")\n",
    "\n",
    "frutas"
   ],
   "id": "44e2dc0837542025",
   "outputs": [
    {
     "data": {
      "text/plain": [
       "0      manzana\n",
       "1    mandarina\n",
       "2         kiwi\n",
       "3         pina\n",
       "Name: frutas, dtype: object"
      ]
     },
     "execution_count": 6,
     "metadata": {},
     "output_type": "execute_result"
    }
   ],
   "execution_count": 6
  },
  {
   "metadata": {},
   "cell_type": "markdown",
   "source": "Ahora podemos definir un `DataFrame` con ambas `Series` con la siguiente sintaxis:",
   "id": "457fc1d175b1b15c"
  },
  {
   "metadata": {
    "ExecuteTime": {
     "end_time": "2025-03-16T15:05:30.170138Z",
     "start_time": "2025-03-16T15:05:30.166010Z"
    }
   },
   "cell_type": "code",
   "source": [
    "# conviertes frutas en un dataframe\n",
    "frutas_y_colores = frutas.to_frame()\n",
    "# añade la columna colores\n",
    "frutas_y_colores[\"colores\"] = colores\n",
    "\n",
    "frutas_y_colores"
   ],
   "id": "55e6e59473a92469",
   "outputs": [
    {
     "data": {
      "text/plain": [
       "      frutas   colores\n",
       "0    manzana      rojo\n",
       "1  mandarina   naranja\n",
       "2       kiwi     verde\n",
       "3       pina  amarillo"
      ],
      "text/html": [
       "<div>\n",
       "<style scoped>\n",
       "    .dataframe tbody tr th:only-of-type {\n",
       "        vertical-align: middle;\n",
       "    }\n",
       "\n",
       "    .dataframe tbody tr th {\n",
       "        vertical-align: top;\n",
       "    }\n",
       "\n",
       "    .dataframe thead th {\n",
       "        text-align: right;\n",
       "    }\n",
       "</style>\n",
       "<table border=\"1\" class=\"dataframe\">\n",
       "  <thead>\n",
       "    <tr style=\"text-align: right;\">\n",
       "      <th></th>\n",
       "      <th>frutas</th>\n",
       "      <th>colores</th>\n",
       "    </tr>\n",
       "  </thead>\n",
       "  <tbody>\n",
       "    <tr>\n",
       "      <th>0</th>\n",
       "      <td>manzana</td>\n",
       "      <td>rojo</td>\n",
       "    </tr>\n",
       "    <tr>\n",
       "      <th>1</th>\n",
       "      <td>mandarina</td>\n",
       "      <td>naranja</td>\n",
       "    </tr>\n",
       "    <tr>\n",
       "      <th>2</th>\n",
       "      <td>kiwi</td>\n",
       "      <td>verde</td>\n",
       "    </tr>\n",
       "    <tr>\n",
       "      <th>3</th>\n",
       "      <td>pina</td>\n",
       "      <td>amarillo</td>\n",
       "    </tr>\n",
       "  </tbody>\n",
       "</table>\n",
       "</div>"
      ]
     },
     "execution_count": 7,
     "metadata": {},
     "output_type": "execute_result"
    }
   ],
   "execution_count": 7
  },
  {
   "metadata": {},
   "cell_type": "markdown",
   "source": [
    "Pandas unirá a las dos `Series` usando el `index` como referencia. No te preocupes si este último paso no quedó claro, fue solo una intro, más adelante trataremos con los `DataFrames`.\n",
    "\n",
    "\n",
    "Puedes seguir la [documentación oficial](https://pandas.pydata.org/pandas-docs/stable/reference/api/pandas.Series.html) de las `Series`."
   ],
   "id": "8984204909b15c99"
  },
  {
   "metadata": {},
   "cell_type": "markdown",
   "source": [
    "En data tabular, generalmente cada columna representa un solo tipo de datos, edad seria tipo `int`, dinero tipo `float`, etc. Pandas permite tener columnas mixtas, esto podría ser bueno en un caso especial pero en general es mala idea. Pandas permite hacer operaciones vectorizadas que son mucho más rápidas que si las hiciese elemento por elemento, esto se debe a que pandas por defecto usa NumPy y una `Series`se comporta como un `array` de NumPy.\n",
    "\n",
    "Veamos la diferencia de vectorizar vs. un for loop."
   ],
   "id": "3fd47794e39f8586"
  },
  {
   "metadata": {
    "ExecuteTime": {
     "end_time": "2025-03-16T15:05:30.199077Z",
     "start_time": "2025-03-16T15:05:30.194520Z"
    }
   },
   "cell_type": "code",
   "source": [
    "series = pd.Series(range(1000000), name=\"naturales\")\n",
    "series.head()"
   ],
   "id": "c815dfbc13696605",
   "outputs": [
    {
     "data": {
      "text/plain": [
       "0    0\n",
       "1    1\n",
       "2    2\n",
       "3    3\n",
       "4    4\n",
       "Name: naturales, dtype: int64"
      ]
     },
     "execution_count": 8,
     "metadata": {},
     "output_type": "execute_result"
    }
   ],
   "execution_count": 8
  },
  {
   "metadata": {
    "ExecuteTime": {
     "end_time": "2025-03-16T15:05:32.483858Z",
     "start_time": "2025-03-16T15:05:30.358256Z"
    }
   },
   "cell_type": "code",
   "source": [
    "%%timeit\n",
    "# multiplicar por 2\n",
    "series_two_times = series.mul(2)\n"
   ],
   "id": "585aa3aa2eec1fc4",
   "outputs": [
    {
     "name": "stdout",
     "output_type": "stream",
     "text": [
      "255 μs ± 9 μs per loop (mean ± std. dev. of 7 runs, 1,000 loops each)\n"
     ]
    }
   ],
   "execution_count": 9
  },
  {
   "metadata": {
    "ExecuteTime": {
     "end_time": "2025-03-16T15:05:32.550172Z",
     "start_time": "2025-03-16T15:05:32.545269Z"
    }
   },
   "cell_type": "code",
   "source": [
    "# tambien puedes multiplicarlo directamente con el mismo resultado\n",
    "series * 2"
   ],
   "id": "b013f980f59be9e7",
   "outputs": [
    {
     "data": {
      "text/plain": [
       "0               0\n",
       "1               2\n",
       "2               4\n",
       "3               6\n",
       "4               8\n",
       "           ...   \n",
       "999995    1999990\n",
       "999996    1999992\n",
       "999997    1999994\n",
       "999998    1999996\n",
       "999999    1999998\n",
       "Name: naturales, Length: 1000000, dtype: int64"
      ]
     },
     "execution_count": 10,
     "metadata": {},
     "output_type": "execute_result"
    }
   ],
   "execution_count": 10
  },
  {
   "metadata": {
    "ExecuteTime": {
     "end_time": "2025-03-16T15:05:37.076139Z",
     "start_time": "2025-03-16T15:05:32.580023Z"
    }
   },
   "cell_type": "code",
   "source": [
    "%%timeit\n",
    "# ahora con un for loop\n",
    "for i in series:\n",
    "    i * 2"
   ],
   "id": "2e2bddd15ad7d721",
   "outputs": [
    {
     "name": "stdout",
     "output_type": "stream",
     "text": [
      "55.2 ms ± 1.01 ms per loop (mean ± std. dev. of 7 runs, 10 loops each)\n"
     ]
    }
   ],
   "execution_count": 11
  },
  {
   "metadata": {},
   "cell_type": "markdown",
   "source": [
    "Vemos que usando vectorización el tiempo fue de un orden de magnitud menor que usando el for loop. En pandas por lo general siempre es mejor aplicar un método que for loops.\n",
    "\n",
    "Podemos definir los tipos de datos en Pandas:"
   ],
   "id": "1bbb34059f873ef"
  },
  {
   "metadata": {
    "ExecuteTime": {
     "end_time": "2025-03-16T15:05:37.123929Z",
     "start_time": "2025-03-16T15:05:37.120872Z"
    }
   },
   "cell_type": "code",
   "source": [
    "# Enteros\n",
    "pd.Series(range(5), dtype=\"int64\")"
   ],
   "id": "cb0c2a3125e959b7",
   "outputs": [
    {
     "data": {
      "text/plain": [
       "0    0\n",
       "1    1\n",
       "2    2\n",
       "3    3\n",
       "4    4\n",
       "dtype: int64"
      ]
     },
     "execution_count": 12,
     "metadata": {},
     "output_type": "execute_result"
    }
   ],
   "execution_count": 12
  },
  {
   "metadata": {
    "ExecuteTime": {
     "end_time": "2025-03-16T15:05:37.189492Z",
     "start_time": "2025-03-16T15:05:37.185957Z"
    }
   },
   "cell_type": "code",
   "source": [
    "# floats\n",
    "pd.Series(range(5), dtype=\"float64\")"
   ],
   "id": "88e81ea0569e9fb1",
   "outputs": [
    {
     "data": {
      "text/plain": [
       "0    0.0\n",
       "1    1.0\n",
       "2    2.0\n",
       "3    3.0\n",
       "4    4.0\n",
       "dtype: float64"
      ]
     },
     "execution_count": 13,
     "metadata": {},
     "output_type": "execute_result"
    }
   ],
   "execution_count": 13
  },
  {
   "metadata": {
    "ExecuteTime": {
     "end_time": "2025-03-16T15:05:37.261533Z",
     "start_time": "2025-03-16T15:05:37.257667Z"
    }
   },
   "cell_type": "code",
   "source": [
    "# boolean\n",
    "pd.Series([True, False, True, False, True], dtype=\"bool\")"
   ],
   "id": "4e91646b0496ef0f",
   "outputs": [
    {
     "data": {
      "text/plain": [
       "0     True\n",
       "1    False\n",
       "2     True\n",
       "3    False\n",
       "4     True\n",
       "dtype: bool"
      ]
     },
     "execution_count": 14,
     "metadata": {},
     "output_type": "execute_result"
    }
   ],
   "execution_count": 14
  },
  {
   "metadata": {
    "ExecuteTime": {
     "end_time": "2025-03-16T15:05:37.370565Z",
     "start_time": "2025-03-16T15:05:37.367885Z"
    }
   },
   "cell_type": "code",
   "source": [
    "# strings\n",
    "pd.Series([\"manzana\", \"mandarina\", \"kiwi\", \"pina\"], dtype=\"string\")"
   ],
   "id": "143604eec701adeb",
   "outputs": [
    {
     "data": {
      "text/plain": [
       "0      manzana\n",
       "1    mandarina\n",
       "2         kiwi\n",
       "3         pina\n",
       "dtype: string"
      ]
     },
     "execution_count": 15,
     "metadata": {},
     "output_type": "execute_result"
    }
   ],
   "execution_count": 15
  },
  {
   "metadata": {
    "ExecuteTime": {
     "end_time": "2025-03-16T15:05:37.388920Z",
     "start_time": "2025-03-16T15:05:37.385453Z"
    }
   },
   "cell_type": "code",
   "source": [
    "# datetypes\n",
    "pd.Series([\"2025-02-01\", \"2025-02-02\", \"2025-02-03\", \"2025-02-04\", \"2025-02-05\"], dtype=\"datetime64[ns]\")"
   ],
   "id": "41a138985067f34a",
   "outputs": [
    {
     "data": {
      "text/plain": [
       "0   2025-02-01\n",
       "1   2025-02-02\n",
       "2   2025-02-03\n",
       "3   2025-02-04\n",
       "4   2025-02-05\n",
       "dtype: datetime64[ns]"
      ]
     },
     "execution_count": 16,
     "metadata": {},
     "output_type": "execute_result"
    }
   ],
   "execution_count": 16
  },
  {
   "metadata": {
    "ExecuteTime": {
     "end_time": "2025-03-16T15:05:37.538954Z",
     "start_time": "2025-03-16T15:05:37.535118Z"
    }
   },
   "cell_type": "code",
   "source": [
    "# categorical\n",
    "pd.Series([\"camisa\", \"pantalon\", \"medias\", \"zapatos\"], dtype=\"category\")"
   ],
   "id": "d2dfbea480b2ab95",
   "outputs": [
    {
     "data": {
      "text/plain": [
       "0      camisa\n",
       "1    pantalon\n",
       "2      medias\n",
       "3     zapatos\n",
       "dtype: category\n",
       "Categories (4, object): ['camisa', 'medias', 'pantalon', 'zapatos']"
      ]
     },
     "execution_count": 17,
     "metadata": {},
     "output_type": "execute_result"
    }
   ],
   "execution_count": 17
  },
  {
   "metadata": {},
   "cell_type": "markdown",
   "source": "El tipo de dato `Category` permite pues, tener categorías, usa menos memoria que `strings` porque hace un mapeo e los valores únicos con un número. Por ejemplo, camisa es 0, pantalon es 1, etc. Si hay 1000 filas con camisa, por detrás está guardando 0 en la memoria y la lista de categoría solo guarda el nombre una vez.",
   "id": "a233dfe56bd9466e"
  },
  {
   "metadata": {},
   "cell_type": "markdown",
   "source": "Cuando tengamos un valor nulo, pandas usará de NumPy el `np.nan`.",
   "id": "ca53553681a62777"
  },
  {
   "metadata": {
    "ExecuteTime": {
     "end_time": "2025-03-16T15:05:37.664693Z",
     "start_time": "2025-03-16T15:05:37.661104Z"
    }
   },
   "cell_type": "code",
   "source": [
    "import numpy as np\n",
    "\n",
    "pd.Series([1, 2, 3, np.nan, 4, 5])"
   ],
   "id": "108e2e11bcb120cf",
   "outputs": [
    {
     "data": {
      "text/plain": [
       "0    1.0\n",
       "1    2.0\n",
       "2    3.0\n",
       "3    NaN\n",
       "4    4.0\n",
       "5    5.0\n",
       "dtype: float64"
      ]
     },
     "execution_count": 18,
     "metadata": {},
     "output_type": "execute_result"
    }
   ],
   "execution_count": 18
  },
  {
   "metadata": {},
   "cell_type": "markdown",
   "source": "Un detalle de esto que `np.nan` es un objeto de tipo `float` por lo que pandas aplicará trucos internos para solventar esto en columnas con otro tipo de datos en detrimento del performance. Una columna de `int` será de tipo `float` y una columna de `string` será de tipo `object` que es un tipo de datos general que pandas usa como salvavidas que permite tipos mixtos.",
   "id": "f99137e0feddb70d"
  },
  {
   "metadata": {
    "ExecuteTime": {
     "end_time": "2025-03-16T15:05:37.789503Z",
     "start_time": "2025-03-16T15:05:37.786296Z"
    }
   },
   "cell_type": "code",
   "source": "pd.Series([\"manzana\", \"mandarina\", np.nan, \"pina\"])",
   "id": "ea7f2a6d417eaaa0",
   "outputs": [
    {
     "data": {
      "text/plain": [
       "0      manzana\n",
       "1    mandarina\n",
       "2          NaN\n",
       "3         pina\n",
       "dtype: object"
      ]
     },
     "execution_count": 19,
     "metadata": {},
     "output_type": "execute_result"
    }
   ],
   "execution_count": 19
  },
  {
   "metadata": {},
   "cell_type": "markdown",
   "source": "Pandas 2 tiene otro backend distinto a NumPy, PyArrow. Más adelante en lo posible usaremos este backend dado que será el usado por defecto en pandas 3 debido a ventajas como poder tener valores nulos con cualquier tipo de datos sin aplicar \"trucos\" sin disminuir performance, por ahora no nos preocupamos por ello.",
   "id": "a79d7639a07e76b3"
  },
  {
   "metadata": {
    "ExecuteTime": {
     "end_time": "2025-03-16T15:05:38.571896Z",
     "start_time": "2025-03-16T15:05:37.922314Z"
    }
   },
   "cell_type": "code",
   "source": [
    "!pip install pyarrow # es necesario tener pyarrow instalado\n",
    "\n",
    "# si no funciona después de instalar pyarrow, has restart en el kernel de jupyter\n"
   ],
   "id": "f73044f710300d47",
   "outputs": [
    {
     "name": "stdout",
     "output_type": "stream",
     "text": [
      "Requirement already satisfied: pyarrow in /home/migue/miniforge3/lib/python3.12/site-packages (19.0.1)\r\n"
     ]
    }
   ],
   "execution_count": 20
  },
  {
   "metadata": {
    "ExecuteTime": {
     "end_time": "2025-03-16T15:05:38.607829Z",
     "start_time": "2025-03-16T15:05:38.603370Z"
    }
   },
   "cell_type": "code",
   "source": [
    "# para tipo int\n",
    "pd.Series([1, 2, 3, np.nan, 4, 5], dtype=\"int64[pyarrow]\")"
   ],
   "id": "95eb5c65e102af39",
   "outputs": [
    {
     "data": {
      "text/plain": [
       "0       1\n",
       "1       2\n",
       "2       3\n",
       "3    <NA>\n",
       "4       4\n",
       "5       5\n",
       "dtype: int64[pyarrow]"
      ]
     },
     "execution_count": 21,
     "metadata": {},
     "output_type": "execute_result"
    }
   ],
   "execution_count": 21
  },
  {
   "metadata": {
    "ExecuteTime": {
     "end_time": "2025-03-16T15:16:45.841987Z",
     "start_time": "2025-03-16T15:16:45.838076Z"
    }
   },
   "cell_type": "code",
   "source": [
    "# para strings\n",
    "pd.Series([\"manzana\", \"mandarina\", np.nan, \"pina\"], dtype=\"string[pyarrow]\")"
   ],
   "id": "39caad92e195d3c6",
   "outputs": [
    {
     "data": {
      "text/plain": [
       "0      manzana\n",
       "1    mandarina\n",
       "2         <NA>\n",
       "3         pina\n",
       "dtype: string"
      ]
     },
     "execution_count": 22,
     "metadata": {},
     "output_type": "execute_result"
    }
   ],
   "execution_count": 22
  },
  {
   "metadata": {},
   "cell_type": "markdown",
   "source": [
    "## Operaciones básicas\n",
    "\n",
    "### Filtrar\n",
    "\n",
    "Para filtrar en pandas se puede usar una máscara que no es más que una `Series` de type `bool`, donde esté `True` mostrará el valor y donde esté `False` lo ocultará."
   ],
   "id": "9c4d08671c6d6a43"
  },
  {
   "metadata": {
    "ExecuteTime": {
     "end_time": "2025-03-16T15:41:20.751605Z",
     "start_time": "2025-03-16T15:41:20.748083Z"
    }
   },
   "cell_type": "code",
   "source": [
    "series = pd.Series([\"manzana\", \"mandarina\", \"kiwi\", \"pina\", \"guayaba\", \"fresa\", \"fresa\", \"pina\", \"manzana\", \"limon\"])\n",
    "\n",
    "series.head()"
   ],
   "id": "87294b01b829574d",
   "outputs": [
    {
     "data": {
      "text/plain": [
       "0      manzana\n",
       "1    mandarina\n",
       "2         kiwi\n",
       "3         pina\n",
       "4      guayaba\n",
       "dtype: object"
      ]
     },
     "execution_count": 37,
     "metadata": {},
     "output_type": "execute_result"
    }
   ],
   "execution_count": 37
  },
  {
   "metadata": {
    "ExecuteTime": {
     "end_time": "2025-03-16T15:24:25.284649Z",
     "start_time": "2025-03-16T15:24:25.281329Z"
    }
   },
   "cell_type": "code",
   "source": [
    "# primero definimos que queremos ver o no ver, por ejemplo ver solo manzanas\n",
    "mask = series == \"manzana\"\n",
    "mask"
   ],
   "id": "31f6eedaaf78ebc5",
   "outputs": [
    {
     "data": {
      "text/plain": [
       "0     True\n",
       "1    False\n",
       "2    False\n",
       "3    False\n",
       "4    False\n",
       "5    False\n",
       "6    False\n",
       "7    False\n",
       "8     True\n",
       "9    False\n",
       "dtype: bool"
      ]
     },
     "execution_count": 26,
     "metadata": {},
     "output_type": "execute_result"
    }
   ],
   "execution_count": 26
  },
  {
   "metadata": {},
   "cell_type": "markdown",
   "source": "Muestra `True` solo en las posiciones 0 y 8, ahora aplicamos el filtro.",
   "id": "5bae540f33eb34c8"
  },
  {
   "metadata": {
    "ExecuteTime": {
     "end_time": "2025-03-16T15:25:11.468162Z",
     "start_time": "2025-03-16T15:25:11.464799Z"
    }
   },
   "cell_type": "code",
   "source": "series[mask]",
   "id": "eecbb8e1789b4486",
   "outputs": [
    {
     "data": {
      "text/plain": [
       "0    manzana\n",
       "8    manzana\n",
       "dtype: object"
      ]
     },
     "execution_count": 27,
     "metadata": {},
     "output_type": "execute_result"
    }
   ],
   "execution_count": 27
  },
  {
   "metadata": {},
   "cell_type": "markdown",
   "source": "Muchas veces verás escrito el filtro de la siguiente manera:",
   "id": "8cd8035f93a39383"
  },
  {
   "metadata": {
    "ExecuteTime": {
     "end_time": "2025-03-16T15:26:08.529178Z",
     "start_time": "2025-03-16T15:26:08.525612Z"
    }
   },
   "cell_type": "code",
   "source": "series[series == \"manzana\"]",
   "id": "eae506284be5492e",
   "outputs": [
    {
     "data": {
      "text/plain": [
       "0    manzana\n",
       "8    manzana\n",
       "dtype: object"
      ]
     },
     "execution_count": 28,
     "metadata": {},
     "output_type": "execute_result"
    }
   ],
   "execution_count": 28
  },
  {
   "metadata": {},
   "cell_type": "markdown",
   "source": "Tal vez tengas interés en no ver las manzanas o incluir más frutas.",
   "id": "3717810e28227a2a"
  },
  {
   "metadata": {
    "ExecuteTime": {
     "end_time": "2025-03-16T15:27:38.113584Z",
     "start_time": "2025-03-16T15:27:38.109816Z"
    }
   },
   "cell_type": "code",
   "source": [
    "# filtrar manzanas fuera\n",
    "mask = series != \"manzana\"\n",
    "series[mask]"
   ],
   "id": "aa46e9fb6ac1829f",
   "outputs": [
    {
     "data": {
      "text/plain": [
       "1    mandarina\n",
       "2         kiwi\n",
       "3         pina\n",
       "4      guayaba\n",
       "5        fresa\n",
       "6        fresa\n",
       "7         pina\n",
       "9        limon\n",
       "dtype: object"
      ]
     },
     "execution_count": 29,
     "metadata": {},
     "output_type": "execute_result"
    }
   ],
   "execution_count": 29
  },
  {
   "metadata": {
    "ExecuteTime": {
     "end_time": "2025-03-16T15:29:38.855340Z",
     "start_time": "2025-03-16T15:29:38.851726Z"
    }
   },
   "cell_type": "code",
   "source": [
    "# mostrar manzana con kiwi (operador OR) - donde exista manzana o kiwi\n",
    "mask = (series == \"manzana\") | (series == \"kiwi\")\n",
    "series[mask]"
   ],
   "id": "5369c4e83ba52fe1",
   "outputs": [
    {
     "data": {
      "text/plain": [
       "0    manzana\n",
       "2       kiwi\n",
       "8    manzana\n",
       "dtype: object"
      ]
     },
     "execution_count": 30,
     "metadata": {},
     "output_type": "execute_result"
    }
   ],
   "execution_count": 30
  },
  {
   "metadata": {},
   "cell_type": "markdown",
   "source": [
    "Importante que cada condicional esté entre paréntesis o no funcionará.\n",
    "\n",
    "La lista de condicionales son las mismas de python:\n",
    "```\n",
    "mayor: >\n",
    "menor: <\n",
    "igual: ==\n",
    "distinto: !=\n",
    "mayor o igual: >=\n",
    "menor o igual: <=\n",
    "```\n",
    "\n",
    "Para `OR` y `AND` en pandas se debe usar `|` y `&` respectivamente.\n",
    "\n",
    "Como NumPy también se puede seleccionar por el `index` y hacer _slicing_. No se incluye la última posición."
   ],
   "id": "3685b103edeb1ed"
  },
  {
   "metadata": {
    "ExecuteTime": {
     "end_time": "2025-03-16T15:35:15.142056Z",
     "start_time": "2025-03-16T15:35:15.138809Z"
    }
   },
   "cell_type": "code",
   "source": "series[0:3]",
   "id": "a35ff52358231e54",
   "outputs": [
    {
     "data": {
      "text/plain": [
       "0      manzana\n",
       "1    mandarina\n",
       "2         kiwi\n",
       "dtype: object"
      ]
     },
     "execution_count": 31,
     "metadata": {},
     "output_type": "execute_result"
    }
   ],
   "execution_count": 31
  },
  {
   "metadata": {
    "ExecuteTime": {
     "end_time": "2025-03-16T15:35:24.263340Z",
     "start_time": "2025-03-16T15:35:24.260018Z"
    }
   },
   "cell_type": "code",
   "source": "series[4:8]",
   "id": "ad429a9c4092a2ee",
   "outputs": [
    {
     "data": {
      "text/plain": [
       "4    guayaba\n",
       "5      fresa\n",
       "6      fresa\n",
       "7       pina\n",
       "dtype: object"
      ]
     },
     "execution_count": 32,
     "metadata": {},
     "output_type": "execute_result"
    }
   ],
   "execution_count": 32
  },
  {
   "metadata": {
    "ExecuteTime": {
     "end_time": "2025-03-16T15:36:24.068293Z",
     "start_time": "2025-03-16T15:36:24.065586Z"
    }
   },
   "cell_type": "code",
   "source": "series[4]",
   "id": "8caafd96ee50faf5",
   "outputs": [
    {
     "data": {
      "text/plain": [
       "'guayaba'"
      ]
     },
     "execution_count": 33,
     "metadata": {},
     "output_type": "execute_result"
    }
   ],
   "execution_count": 33
  },
  {
   "metadata": {
    "ExecuteTime": {
     "end_time": "2025-03-16T15:37:22.461146Z",
     "start_time": "2025-03-16T15:37:22.457441Z"
    }
   },
   "cell_type": "code",
   "source": "series[::-1] # invertir orden",
   "id": "fc96e0ba937d695d",
   "outputs": [
    {
     "data": {
      "text/plain": [
       "9        limon\n",
       "8      manzana\n",
       "7         pina\n",
       "6        fresa\n",
       "5        fresa\n",
       "4      guayaba\n",
       "3         pina\n",
       "2         kiwi\n",
       "1    mandarina\n",
       "0      manzana\n",
       "dtype: object"
      ]
     },
     "execution_count": 35,
     "metadata": {},
     "output_type": "execute_result"
    }
   ],
   "execution_count": 35
  },
  {
   "metadata": {},
   "cell_type": "markdown",
   "source": "usar `.iloc` funciona igual y es más explícito:",
   "id": "2aefcff97b8b231e"
  },
  {
   "metadata": {
    "ExecuteTime": {
     "end_time": "2025-03-16T15:42:29.667968Z",
     "start_time": "2025-03-16T15:42:29.664919Z"
    }
   },
   "cell_type": "code",
   "source": "series.iloc[:3] # si dejas vacío antes de los dos puntos, asume 0",
   "id": "9d2236fc7956d885",
   "outputs": [
    {
     "data": {
      "text/plain": [
       "0      manzana\n",
       "1    mandarina\n",
       "2         kiwi\n",
       "dtype: object"
      ]
     },
     "execution_count": 38,
     "metadata": {},
     "output_type": "execute_result"
    }
   ],
   "execution_count": 38
  },
  {
   "metadata": {
    "ExecuteTime": {
     "end_time": "2025-03-16T15:43:18.662879Z",
     "start_time": "2025-03-16T15:43:18.659601Z"
    }
   },
   "cell_type": "code",
   "source": "series.iloc[3:] # si dejas vacio después de los dos puntos asume que es hasta el último",
   "id": "7501b2449b891834",
   "outputs": [
    {
     "data": {
      "text/plain": [
       "3       pina\n",
       "4    guayaba\n",
       "5      fresa\n",
       "6      fresa\n",
       "7       pina\n",
       "8    manzana\n",
       "9      limon\n",
       "dtype: object"
      ]
     },
     "execution_count": 39,
     "metadata": {},
     "output_type": "execute_result"
    }
   ],
   "execution_count": 39
  },
  {
   "metadata": {},
   "cell_type": "markdown",
   "source": [
    "Si tienes indexado con palabras o fechas también puedes hacer estas operaciones, en este caso la última posición si se incluye.\n",
    "\n",
    "Hacemos uso de `.loc` para ello."
   ],
   "id": "6c2dff4ae10dabf4"
  },
  {
   "metadata": {
    "ExecuteTime": {
     "end_time": "2025-03-16T15:43:37.447039Z",
     "start_time": "2025-03-16T15:43:37.443533Z"
    }
   },
   "cell_type": "code",
   "source": [
    "series = pd.Series(\n",
    "    [\"rojo\", \"naranja\", \"verde\", \"amarillo\"],\n",
    "    name=\"colores\",\n",
    "    index=[\"manzana\", \"mandarina\", \"kiwi\", \"pina\"],\n",
    ")\n",
    "series"
   ],
   "id": "597d087b9b120bdf",
   "outputs": [
    {
     "data": {
      "text/plain": [
       "manzana          rojo\n",
       "mandarina     naranja\n",
       "kiwi            verde\n",
       "pina         amarillo\n",
       "Name: colores, dtype: object"
      ]
     },
     "execution_count": 40,
     "metadata": {},
     "output_type": "execute_result"
    }
   ],
   "execution_count": 40
  },
  {
   "metadata": {
    "ExecuteTime": {
     "end_time": "2025-03-16T15:43:52.198981Z",
     "start_time": "2025-03-16T15:43:52.196360Z"
    }
   },
   "cell_type": "code",
   "source": "series.loc[\"manzana\"]",
   "id": "1c5db8bf559e630f",
   "outputs": [
    {
     "data": {
      "text/plain": [
       "'rojo'"
      ]
     },
     "execution_count": 41,
     "metadata": {},
     "output_type": "execute_result"
    }
   ],
   "execution_count": 41
  },
  {
   "metadata": {
    "ExecuteTime": {
     "end_time": "2025-03-16T15:44:11.808033Z",
     "start_time": "2025-03-16T15:44:11.803404Z"
    }
   },
   "cell_type": "code",
   "source": "series.loc[\"manzana\":\"kiwi\"]",
   "id": "d6d52ad9334c4dc4",
   "outputs": [
    {
     "data": {
      "text/plain": [
       "manzana         rojo\n",
       "mandarina    naranja\n",
       "kiwi           verde\n",
       "Name: colores, dtype: object"
      ]
     },
     "execution_count": 42,
     "metadata": {},
     "output_type": "execute_result"
    }
   ],
   "execution_count": 42
  },
  {
   "metadata": {
    "ExecuteTime": {
     "end_time": "2025-03-16T15:44:41.108910Z",
     "start_time": "2025-03-16T15:44:41.105556Z"
    }
   },
   "cell_type": "code",
   "source": "series.loc[\"mandarina\":]",
   "id": "aca5e045dcde668a",
   "outputs": [
    {
     "data": {
      "text/plain": [
       "mandarina     naranja\n",
       "kiwi            verde\n",
       "pina         amarillo\n",
       "Name: colores, dtype: object"
      ]
     },
     "execution_count": 44,
     "metadata": {},
     "output_type": "execute_result"
    }
   ],
   "execution_count": 44
  },
  {
   "metadata": {
    "ExecuteTime": {
     "end_time": "2025-03-16T15:45:14.655618Z",
     "start_time": "2025-03-16T15:45:14.652285Z"
    }
   },
   "cell_type": "code",
   "source": "series.loc[:\"kiwi\"]",
   "id": "43f7712095ed5418",
   "outputs": [
    {
     "data": {
      "text/plain": [
       "manzana         rojo\n",
       "mandarina    naranja\n",
       "kiwi           verde\n",
       "Name: colores, dtype: object"
      ]
     },
     "execution_count": 46,
     "metadata": {},
     "output_type": "execute_result"
    }
   ],
   "execution_count": 46
  }
 ],
 "metadata": {
  "kernelspec": {
   "display_name": "Python 3",
   "language": "python",
   "name": "python3"
  },
  "language_info": {
   "codemirror_mode": {
    "name": "ipython",
    "version": 2
   },
   "file_extension": ".py",
   "mimetype": "text/x-python",
   "name": "python",
   "nbconvert_exporter": "python",
   "pygments_lexer": "ipython2",
   "version": "2.7.6"
  }
 },
 "nbformat": 4,
 "nbformat_minor": 5
}
