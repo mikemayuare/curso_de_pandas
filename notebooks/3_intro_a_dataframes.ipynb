{
 "cells": [
  {
   "cell_type": "markdown",
   "metadata": {},
   "source": [
    "# DataFrames\n",
    "\n",
    "Colección de columnas (objetos `pd.Series`). Es como una hoja de excel.\n",
    "\n",
    "## Youtube\n",
    "\n",
    "[Ve el vídeo acá](https://youtu.be/L-qlmvPsbPk)\n",
    "\n",
    "\n",
    "## Dataset\n",
    "- https://www.fueleconomy.gov/feg/download.shtml\n",
    "- [Descripción](https://www.fueleconomy.gov/feg/epadata/vehicles.csv)"
   ]
  },
  {
   "cell_type": "markdown",
   "metadata": {},
   "source": [
    "### Import libraries"
   ]
  },
  {
   "cell_type": "code",
   "execution_count": null,
   "metadata": {},
   "outputs": [],
   "source": [
    "import pandas as pd\n",
    "import os\n"
   ]
  },
  {
   "cell_type": "code",
   "execution_count": 2,
   "metadata": {},
   "outputs": [
    {
     "name": "stdout",
     "output_type": "stream",
     "text": [
      "Carpeta de trabajo:  /home/migue/data-science/curso_de_pandas\n"
     ]
    }
   ],
   "source": [
    "# cambia la capeta de trabajo a la raiz\n",
    "os.chdir(\"../\")\n",
    "\n",
    "print(\"Carpeta de trabajo: \", os.getcwd())"
   ]
  },
  {
   "cell_type": "code",
   "execution_count": 48,
   "metadata": {},
   "outputs": [
    {
     "data": {
      "text/html": [
       "<div>\n",
       "<style scoped>\n",
       "    .dataframe tbody tr th:only-of-type {\n",
       "        vertical-align: middle;\n",
       "    }\n",
       "\n",
       "    .dataframe tbody tr th {\n",
       "        vertical-align: top;\n",
       "    }\n",
       "\n",
       "    .dataframe thead th {\n",
       "        text-align: right;\n",
       "    }\n",
       "</style>\n",
       "<table border=\"1\" class=\"dataframe\">\n",
       "  <thead>\n",
       "    <tr style=\"text-align: right;\">\n",
       "      <th></th>\n",
       "      <th>barrels08</th>\n",
       "      <th>barrelsA08</th>\n",
       "      <th>charge120</th>\n",
       "      <th>charge240</th>\n",
       "      <th>city08</th>\n",
       "      <th>city08U</th>\n",
       "      <th>cityA08</th>\n",
       "      <th>cityA08U</th>\n",
       "      <th>cityCD</th>\n",
       "      <th>cityE</th>\n",
       "      <th>...</th>\n",
       "      <th>mfrCode</th>\n",
       "      <th>c240Dscr</th>\n",
       "      <th>charge240b</th>\n",
       "      <th>c240bDscr</th>\n",
       "      <th>createdOn</th>\n",
       "      <th>modifiedOn</th>\n",
       "      <th>startStop</th>\n",
       "      <th>phevCity</th>\n",
       "      <th>phevHwy</th>\n",
       "      <th>phevComb</th>\n",
       "    </tr>\n",
       "  </thead>\n",
       "  <tbody>\n",
       "    <tr>\n",
       "      <th>0</th>\n",
       "      <td>14.167143</td>\n",
       "      <td>0.0</td>\n",
       "      <td>0.0</td>\n",
       "      <td>0.0</td>\n",
       "      <td>19</td>\n",
       "      <td>0.0</td>\n",
       "      <td>0</td>\n",
       "      <td>0.0</td>\n",
       "      <td>0.0</td>\n",
       "      <td>0.0</td>\n",
       "      <td>...</td>\n",
       "      <td>&lt;NA&gt;</td>\n",
       "      <td>&lt;NA&gt;</td>\n",
       "      <td>0.0</td>\n",
       "      <td>&lt;NA&gt;</td>\n",
       "      <td>Tue Jan 01 00:00:00 EST 2013</td>\n",
       "      <td>Tue Jan 01 00:00:00 EST 2013</td>\n",
       "      <td>&lt;NA&gt;</td>\n",
       "      <td>0</td>\n",
       "      <td>0</td>\n",
       "      <td>0</td>\n",
       "    </tr>\n",
       "    <tr>\n",
       "      <th>1</th>\n",
       "      <td>27.046364</td>\n",
       "      <td>0.0</td>\n",
       "      <td>0.0</td>\n",
       "      <td>0.0</td>\n",
       "      <td>9</td>\n",
       "      <td>0.0</td>\n",
       "      <td>0</td>\n",
       "      <td>0.0</td>\n",
       "      <td>0.0</td>\n",
       "      <td>0.0</td>\n",
       "      <td>...</td>\n",
       "      <td>&lt;NA&gt;</td>\n",
       "      <td>&lt;NA&gt;</td>\n",
       "      <td>0.0</td>\n",
       "      <td>&lt;NA&gt;</td>\n",
       "      <td>Tue Jan 01 00:00:00 EST 2013</td>\n",
       "      <td>Tue Jan 01 00:00:00 EST 2013</td>\n",
       "      <td>&lt;NA&gt;</td>\n",
       "      <td>0</td>\n",
       "      <td>0</td>\n",
       "      <td>0</td>\n",
       "    </tr>\n",
       "    <tr>\n",
       "      <th>2</th>\n",
       "      <td>11.018889</td>\n",
       "      <td>0.0</td>\n",
       "      <td>0.0</td>\n",
       "      <td>0.0</td>\n",
       "      <td>23</td>\n",
       "      <td>0.0</td>\n",
       "      <td>0</td>\n",
       "      <td>0.0</td>\n",
       "      <td>0.0</td>\n",
       "      <td>0.0</td>\n",
       "      <td>...</td>\n",
       "      <td>&lt;NA&gt;</td>\n",
       "      <td>&lt;NA&gt;</td>\n",
       "      <td>0.0</td>\n",
       "      <td>&lt;NA&gt;</td>\n",
       "      <td>Tue Jan 01 00:00:00 EST 2013</td>\n",
       "      <td>Tue Jan 01 00:00:00 EST 2013</td>\n",
       "      <td>&lt;NA&gt;</td>\n",
       "      <td>0</td>\n",
       "      <td>0</td>\n",
       "      <td>0</td>\n",
       "    </tr>\n",
       "    <tr>\n",
       "      <th>3</th>\n",
       "      <td>27.046364</td>\n",
       "      <td>0.0</td>\n",
       "      <td>0.0</td>\n",
       "      <td>0.0</td>\n",
       "      <td>10</td>\n",
       "      <td>0.0</td>\n",
       "      <td>0</td>\n",
       "      <td>0.0</td>\n",
       "      <td>0.0</td>\n",
       "      <td>0.0</td>\n",
       "      <td>...</td>\n",
       "      <td>&lt;NA&gt;</td>\n",
       "      <td>&lt;NA&gt;</td>\n",
       "      <td>0.0</td>\n",
       "      <td>&lt;NA&gt;</td>\n",
       "      <td>Tue Jan 01 00:00:00 EST 2013</td>\n",
       "      <td>Tue Jan 01 00:00:00 EST 2013</td>\n",
       "      <td>&lt;NA&gt;</td>\n",
       "      <td>0</td>\n",
       "      <td>0</td>\n",
       "      <td>0</td>\n",
       "    </tr>\n",
       "    <tr>\n",
       "      <th>4</th>\n",
       "      <td>15.658421</td>\n",
       "      <td>0.0</td>\n",
       "      <td>0.0</td>\n",
       "      <td>0.0</td>\n",
       "      <td>17</td>\n",
       "      <td>0.0</td>\n",
       "      <td>0</td>\n",
       "      <td>0.0</td>\n",
       "      <td>0.0</td>\n",
       "      <td>0.0</td>\n",
       "      <td>...</td>\n",
       "      <td>&lt;NA&gt;</td>\n",
       "      <td>&lt;NA&gt;</td>\n",
       "      <td>0.0</td>\n",
       "      <td>&lt;NA&gt;</td>\n",
       "      <td>Tue Jan 01 00:00:00 EST 2013</td>\n",
       "      <td>Tue Jan 01 00:00:00 EST 2013</td>\n",
       "      <td>&lt;NA&gt;</td>\n",
       "      <td>0</td>\n",
       "      <td>0</td>\n",
       "      <td>0</td>\n",
       "    </tr>\n",
       "  </tbody>\n",
       "</table>\n",
       "<p>5 rows × 84 columns</p>\n",
       "</div>"
      ],
      "text/plain": [
       "   barrels08  barrelsA08  charge120  charge240  city08  city08U  cityA08  \\\n",
       "0  14.167143         0.0        0.0        0.0      19      0.0        0   \n",
       "1  27.046364         0.0        0.0        0.0       9      0.0        0   \n",
       "2  11.018889         0.0        0.0        0.0      23      0.0        0   \n",
       "3  27.046364         0.0        0.0        0.0      10      0.0        0   \n",
       "4  15.658421         0.0        0.0        0.0      17      0.0        0   \n",
       "\n",
       "   cityA08U  cityCD  cityE  ...  mfrCode  c240Dscr  charge240b  c240bDscr  \\\n",
       "0       0.0     0.0    0.0  ...     <NA>      <NA>         0.0       <NA>   \n",
       "1       0.0     0.0    0.0  ...     <NA>      <NA>         0.0       <NA>   \n",
       "2       0.0     0.0    0.0  ...     <NA>      <NA>         0.0       <NA>   \n",
       "3       0.0     0.0    0.0  ...     <NA>      <NA>         0.0       <NA>   \n",
       "4       0.0     0.0    0.0  ...     <NA>      <NA>         0.0       <NA>   \n",
       "\n",
       "                      createdOn                    modifiedOn  startStop  \\\n",
       "0  Tue Jan 01 00:00:00 EST 2013  Tue Jan 01 00:00:00 EST 2013       <NA>   \n",
       "1  Tue Jan 01 00:00:00 EST 2013  Tue Jan 01 00:00:00 EST 2013       <NA>   \n",
       "2  Tue Jan 01 00:00:00 EST 2013  Tue Jan 01 00:00:00 EST 2013       <NA>   \n",
       "3  Tue Jan 01 00:00:00 EST 2013  Tue Jan 01 00:00:00 EST 2013       <NA>   \n",
       "4  Tue Jan 01 00:00:00 EST 2013  Tue Jan 01 00:00:00 EST 2013       <NA>   \n",
       "\n",
       "   phevCity  phevHwy  phevComb  \n",
       "0         0        0         0  \n",
       "1         0        0         0  \n",
       "2         0        0         0  \n",
       "3         0        0         0  \n",
       "4         0        0         0  \n",
       "\n",
       "[5 rows x 84 columns]"
      ]
     },
     "execution_count": 48,
     "metadata": {},
     "output_type": "execute_result"
    }
   ],
   "source": [
    "# modifica la ruta a donde lo hayas guardado\n",
    "dataset_file = (\n",
    "    \"https://www.fueleconomy.gov/feg/epadata/vehicles.csv\"\n",
    ")\n",
    "\n",
    "vehicles_df = pd.read_csv(dataset_file, dtype_backend=\"pyarrow\")\n",
    "vehicles_df.head()"
   ]
  },
  {
   "cell_type": "code",
   "execution_count": 92,
   "metadata": {},
   "outputs": [],
   "source": [
    "# guarda el dataset en el disco si no lo quieres volver a descargar\n",
    "vehicles_df.to_csv(\"data/vehicles.csv\", index=False)"
   ]
  },
  {
   "cell_type": "markdown",
   "metadata": {},
   "source": [
    "#### Información básica del `DataFrame`"
   ]
  },
  {
   "cell_type": "code",
   "execution_count": 49,
   "metadata": {},
   "outputs": [
    {
     "name": "stdout",
     "output_type": "stream",
     "text": [
      "<class 'pandas.core.frame.DataFrame'>\n",
      "RangeIndex: 48543 entries, 0 to 48542\n",
      "Data columns (total 84 columns):\n",
      " #   Column           Non-Null Count  Dtype          \n",
      "---  ------           --------------  -----          \n",
      " 0   barrels08        48543 non-null  double[pyarrow]\n",
      " 1   barrelsA08       48543 non-null  double[pyarrow]\n",
      " 2   charge120        48543 non-null  double[pyarrow]\n",
      " 3   charge240        48543 non-null  double[pyarrow]\n",
      " 4   city08           48543 non-null  int64[pyarrow] \n",
      " 5   city08U          48543 non-null  double[pyarrow]\n",
      " 6   cityA08          48543 non-null  int64[pyarrow] \n",
      " 7   cityA08U         48543 non-null  double[pyarrow]\n",
      " 8   cityCD           48543 non-null  double[pyarrow]\n",
      " 9   cityE            48543 non-null  double[pyarrow]\n",
      " 10  cityUF           48543 non-null  double[pyarrow]\n",
      " 11  co2              48543 non-null  int64[pyarrow] \n",
      " 12  co2A             48543 non-null  int64[pyarrow] \n",
      " 13  co2TailpipeAGpm  48543 non-null  double[pyarrow]\n",
      " 14  co2TailpipeGpm   48543 non-null  double[pyarrow]\n",
      " 15  comb08           48543 non-null  int64[pyarrow] \n",
      " 16  comb08U          48543 non-null  double[pyarrow]\n",
      " 17  combA08          48543 non-null  int64[pyarrow] \n",
      " 18  combA08U         48543 non-null  double[pyarrow]\n",
      " 19  combE            48543 non-null  double[pyarrow]\n",
      " 20  combinedCD       48543 non-null  double[pyarrow]\n",
      " 21  combinedUF       48543 non-null  double[pyarrow]\n",
      " 22  cylinders        47458 non-null  int64[pyarrow] \n",
      " 23  displ            47460 non-null  double[pyarrow]\n",
      " 24  drive            47357 non-null  string[pyarrow]\n",
      " 25  engId            48543 non-null  int64[pyarrow] \n",
      " 26  eng_dscr         30776 non-null  string[pyarrow]\n",
      " 27  feScore          48543 non-null  int64[pyarrow] \n",
      " 28  fuelCost08       48543 non-null  int64[pyarrow] \n",
      " 29  fuelCostA08      48543 non-null  int64[pyarrow] \n",
      " 30  fuelType         48543 non-null  string[pyarrow]\n",
      " 31  fuelType1        48543 non-null  string[pyarrow]\n",
      " 32  ghgScore         48543 non-null  int64[pyarrow] \n",
      " 33  ghgScoreA        48543 non-null  int64[pyarrow] \n",
      " 34  highway08        48543 non-null  int64[pyarrow] \n",
      " 35  highway08U       48543 non-null  double[pyarrow]\n",
      " 36  highwayA08       48543 non-null  int64[pyarrow] \n",
      " 37  highwayA08U      48543 non-null  double[pyarrow]\n",
      " 38  highwayCD        48543 non-null  double[pyarrow]\n",
      " 39  highwayE         48543 non-null  double[pyarrow]\n",
      " 40  highwayUF        48543 non-null  double[pyarrow]\n",
      " 41  hlv              48543 non-null  int64[pyarrow] \n",
      " 42  hpv              48543 non-null  int64[pyarrow] \n",
      " 43  id               48543 non-null  int64[pyarrow] \n",
      " 44  lv2              48543 non-null  int64[pyarrow] \n",
      " 45  lv4              48543 non-null  int64[pyarrow] \n",
      " 46  make             48543 non-null  string[pyarrow]\n",
      " 47  model            48543 non-null  string[pyarrow]\n",
      " 48  mpgData          48351 non-null  string[pyarrow]\n",
      " 49  phevBlended      48543 non-null  bool[pyarrow]  \n",
      " 50  pv2              48543 non-null  int64[pyarrow] \n",
      " 51  pv4              48543 non-null  int64[pyarrow] \n",
      " 52  range            48543 non-null  int64[pyarrow] \n",
      " 53  rangeCity        48543 non-null  double[pyarrow]\n",
      " 54  rangeCityA       48543 non-null  double[pyarrow]\n",
      " 55  rangeHwy         48543 non-null  double[pyarrow]\n",
      " 56  rangeHwyA        48543 non-null  double[pyarrow]\n",
      " 57  trany            48532 non-null  string[pyarrow]\n",
      " 58  UCity            48543 non-null  double[pyarrow]\n",
      " 59  UCityA           48543 non-null  double[pyarrow]\n",
      " 60  UHighway         48543 non-null  double[pyarrow]\n",
      " 61  UHighwayA        48543 non-null  double[pyarrow]\n",
      " 62  VClass           48543 non-null  string[pyarrow]\n",
      " 63  year             48543 non-null  int64[pyarrow] \n",
      " 64  youSaveSpend     48543 non-null  int64[pyarrow] \n",
      " 65  baseModel        48543 non-null  string[pyarrow]\n",
      " 66  guzzler          2797 non-null   string[pyarrow]\n",
      " 67  trans_dscr       15044 non-null  string[pyarrow]\n",
      " 68  tCharger         10875 non-null  string[pyarrow]\n",
      " 69  sCharger         1103 non-null   string[pyarrow]\n",
      " 70  atvType          5838 non-null   string[pyarrow]\n",
      " 71  fuelType2        1929 non-null   string[pyarrow]\n",
      " 72  rangeA           1924 non-null   string[pyarrow]\n",
      " 73  evMotor          2932 non-null   string[pyarrow]\n",
      " 74  mfrCode          17735 non-null  string[pyarrow]\n",
      " 75  c240Dscr         141 non-null    string[pyarrow]\n",
      " 76  charge240b       48543 non-null  double[pyarrow]\n",
      " 77  c240bDscr        135 non-null    string[pyarrow]\n",
      " 78  createdOn        48543 non-null  string[pyarrow]\n",
      " 79  modifiedOn       48543 non-null  string[pyarrow]\n",
      " 80  startStop        16854 non-null  string[pyarrow]\n",
      " 81  phevCity         48543 non-null  int64[pyarrow] \n",
      " 82  phevHwy          48543 non-null  int64[pyarrow] \n",
      " 83  phevComb         48543 non-null  int64[pyarrow] \n",
      "dtypes: bool[pyarrow](1), double[pyarrow](31), int64[pyarrow](28), string[pyarrow](24)\n",
      "memory usage: 34.1 MB\n"
     ]
    }
   ],
   "source": [
    "vehicles_df.info()"
   ]
  },
  {
   "cell_type": "markdown",
   "metadata": {},
   "source": [
    "#### Columnas con valores nulos"
   ]
  },
  {
   "cell_type": "code",
   "execution_count": 54,
   "metadata": {},
   "outputs": [
    {
     "data": {
      "text/plain": [
       "Index(['cylinders', 'displ', 'drive', 'eng_dscr', 'mpgData', 'trany',\n",
       "       'guzzler', 'trans_dscr', 'tCharger', 'sCharger', 'atvType', 'fuelType2',\n",
       "       'rangeA', 'evMotor', 'mfrCode', 'c240Dscr', 'c240bDscr', 'startStop'],\n",
       "      dtype='object')"
      ]
     },
     "execution_count": 54,
     "metadata": {},
     "output_type": "execute_result"
    }
   ],
   "source": [
    "columns_with_nulls = vehicles_df.columns[vehicles_df.isnull().any()]\n",
    "columns_with_nulls"
   ]
  },
  {
   "cell_type": "markdown",
   "metadata": {},
   "source": [
    "Importante es entender la data, muchos datasets públicos tienen una guía, este dataset por ejemplo la tiene en [su página web](https://www.fueleconomy.gov/feg/ws/index.shtml#vehicle).\n",
    "\n",
    "Es de esperarse que una columna como cylinders tenga valores nulos porque los autos eléctricos no poseen cilindros. Otra causa de los valores nulos fue que simplemente no insertaron ese dato o hubo error humano en la entrada de los datos."
   ]
  },
  {
   "cell_type": "code",
   "execution_count": 55,
   "metadata": {},
   "outputs": [
    {
     "name": "stdout",
     "output_type": "stream",
     "text": [
      "<class 'pandas.core.frame.DataFrame'>\n",
      "RangeIndex: 48543 entries, 0 to 48542\n",
      "Data columns (total 18 columns):\n",
      " #   Column      Non-Null Count  Dtype          \n",
      "---  ------      --------------  -----          \n",
      " 0   cylinders   47458 non-null  int64[pyarrow] \n",
      " 1   displ       47460 non-null  double[pyarrow]\n",
      " 2   drive       47357 non-null  string[pyarrow]\n",
      " 3   eng_dscr    30776 non-null  string[pyarrow]\n",
      " 4   mpgData     48351 non-null  string[pyarrow]\n",
      " 5   trany       48532 non-null  string[pyarrow]\n",
      " 6   guzzler     2797 non-null   string[pyarrow]\n",
      " 7   trans_dscr  15044 non-null  string[pyarrow]\n",
      " 8   tCharger    10875 non-null  string[pyarrow]\n",
      " 9   sCharger    1103 non-null   string[pyarrow]\n",
      " 10  atvType     5838 non-null   string[pyarrow]\n",
      " 11  fuelType2   1929 non-null   string[pyarrow]\n",
      " 12  rangeA      1924 non-null   string[pyarrow]\n",
      " 13  evMotor     2932 non-null   string[pyarrow]\n",
      " 14  mfrCode     17735 non-null  string[pyarrow]\n",
      " 15  c240Dscr    141 non-null    string[pyarrow]\n",
      " 16  c240bDscr   135 non-null    string[pyarrow]\n",
      " 17  startStop   16854 non-null  string[pyarrow]\n",
      "dtypes: double[pyarrow](1), int64[pyarrow](1), string[pyarrow](16)\n",
      "memory usage: 5.8 MB\n"
     ]
    }
   ],
   "source": [
    "vehicles_df[columns_with_nulls].info()"
   ]
  },
  {
   "cell_type": "code",
   "execution_count": 56,
   "metadata": {},
   "outputs": [
    {
     "data": {
      "text/plain": [
       "cylinders      1085\n",
       "displ          1083\n",
       "drive          1186\n",
       "eng_dscr      17767\n",
       "mpgData         192\n",
       "trany            11\n",
       "guzzler       45746\n",
       "trans_dscr    33499\n",
       "tCharger      37668\n",
       "sCharger      47440\n",
       "atvType       42705\n",
       "fuelType2     46614\n",
       "rangeA        46619\n",
       "evMotor       45611\n",
       "mfrCode       30808\n",
       "c240Dscr      48402\n",
       "c240bDscr     48408\n",
       "startStop     31689\n",
       "dtype: int64"
      ]
     },
     "execution_count": 56,
     "metadata": {},
     "output_type": "execute_result"
    }
   ],
   "source": [
    "vehicles_df[columns_with_nulls].isna().sum()"
   ]
  },
  {
   "cell_type": "code",
   "execution_count": 57,
   "metadata": {},
   "outputs": [
    {
     "data": {
      "text/html": [
       "<div>\n",
       "<style scoped>\n",
       "    .dataframe tbody tr th:only-of-type {\n",
       "        vertical-align: middle;\n",
       "    }\n",
       "\n",
       "    .dataframe tbody tr th {\n",
       "        vertical-align: top;\n",
       "    }\n",
       "\n",
       "    .dataframe thead th {\n",
       "        text-align: right;\n",
       "    }\n",
       "</style>\n",
       "<table border=\"1\" class=\"dataframe\">\n",
       "  <thead>\n",
       "    <tr style=\"text-align: right;\">\n",
       "      <th></th>\n",
       "      <th>cylinders</th>\n",
       "      <th>displ</th>\n",
       "      <th>drive</th>\n",
       "      <th>eng_dscr</th>\n",
       "      <th>mpgData</th>\n",
       "      <th>trany</th>\n",
       "      <th>guzzler</th>\n",
       "      <th>trans_dscr</th>\n",
       "      <th>tCharger</th>\n",
       "      <th>sCharger</th>\n",
       "      <th>atvType</th>\n",
       "      <th>fuelType2</th>\n",
       "      <th>rangeA</th>\n",
       "      <th>evMotor</th>\n",
       "      <th>mfrCode</th>\n",
       "      <th>c240Dscr</th>\n",
       "      <th>c240bDscr</th>\n",
       "      <th>startStop</th>\n",
       "    </tr>\n",
       "  </thead>\n",
       "  <tbody>\n",
       "    <tr>\n",
       "      <th>0</th>\n",
       "      <td>False</td>\n",
       "      <td>False</td>\n",
       "      <td>False</td>\n",
       "      <td>False</td>\n",
       "      <td>False</td>\n",
       "      <td>False</td>\n",
       "      <td>True</td>\n",
       "      <td>True</td>\n",
       "      <td>True</td>\n",
       "      <td>True</td>\n",
       "      <td>True</td>\n",
       "      <td>True</td>\n",
       "      <td>True</td>\n",
       "      <td>True</td>\n",
       "      <td>True</td>\n",
       "      <td>True</td>\n",
       "      <td>True</td>\n",
       "      <td>True</td>\n",
       "    </tr>\n",
       "    <tr>\n",
       "      <th>1</th>\n",
       "      <td>False</td>\n",
       "      <td>False</td>\n",
       "      <td>False</td>\n",
       "      <td>False</td>\n",
       "      <td>False</td>\n",
       "      <td>False</td>\n",
       "      <td>False</td>\n",
       "      <td>True</td>\n",
       "      <td>True</td>\n",
       "      <td>True</td>\n",
       "      <td>True</td>\n",
       "      <td>True</td>\n",
       "      <td>True</td>\n",
       "      <td>True</td>\n",
       "      <td>True</td>\n",
       "      <td>True</td>\n",
       "      <td>True</td>\n",
       "      <td>True</td>\n",
       "    </tr>\n",
       "    <tr>\n",
       "      <th>2</th>\n",
       "      <td>False</td>\n",
       "      <td>False</td>\n",
       "      <td>False</td>\n",
       "      <td>False</td>\n",
       "      <td>False</td>\n",
       "      <td>False</td>\n",
       "      <td>True</td>\n",
       "      <td>False</td>\n",
       "      <td>True</td>\n",
       "      <td>True</td>\n",
       "      <td>True</td>\n",
       "      <td>True</td>\n",
       "      <td>True</td>\n",
       "      <td>True</td>\n",
       "      <td>True</td>\n",
       "      <td>True</td>\n",
       "      <td>True</td>\n",
       "      <td>True</td>\n",
       "    </tr>\n",
       "    <tr>\n",
       "      <th>3</th>\n",
       "      <td>False</td>\n",
       "      <td>False</td>\n",
       "      <td>False</td>\n",
       "      <td>True</td>\n",
       "      <td>False</td>\n",
       "      <td>False</td>\n",
       "      <td>True</td>\n",
       "      <td>True</td>\n",
       "      <td>True</td>\n",
       "      <td>True</td>\n",
       "      <td>True</td>\n",
       "      <td>True</td>\n",
       "      <td>True</td>\n",
       "      <td>True</td>\n",
       "      <td>True</td>\n",
       "      <td>True</td>\n",
       "      <td>True</td>\n",
       "      <td>True</td>\n",
       "    </tr>\n",
       "    <tr>\n",
       "      <th>4</th>\n",
       "      <td>False</td>\n",
       "      <td>False</td>\n",
       "      <td>False</td>\n",
       "      <td>False</td>\n",
       "      <td>False</td>\n",
       "      <td>False</td>\n",
       "      <td>True</td>\n",
       "      <td>True</td>\n",
       "      <td>False</td>\n",
       "      <td>True</td>\n",
       "      <td>True</td>\n",
       "      <td>True</td>\n",
       "      <td>True</td>\n",
       "      <td>True</td>\n",
       "      <td>True</td>\n",
       "      <td>True</td>\n",
       "      <td>True</td>\n",
       "      <td>True</td>\n",
       "    </tr>\n",
       "  </tbody>\n",
       "</table>\n",
       "</div>"
      ],
      "text/plain": [
       "   cylinders  displ  drive  eng_dscr  mpgData  trany  guzzler  trans_dscr  \\\n",
       "0      False  False  False     False    False  False     True        True   \n",
       "1      False  False  False     False    False  False    False        True   \n",
       "2      False  False  False     False    False  False     True       False   \n",
       "3      False  False  False      True    False  False     True        True   \n",
       "4      False  False  False     False    False  False     True        True   \n",
       "\n",
       "   tCharger  sCharger  atvType  fuelType2  rangeA  evMotor  mfrCode  c240Dscr  \\\n",
       "0      True      True     True       True    True     True     True      True   \n",
       "1      True      True     True       True    True     True     True      True   \n",
       "2      True      True     True       True    True     True     True      True   \n",
       "3      True      True     True       True    True     True     True      True   \n",
       "4     False      True     True       True    True     True     True      True   \n",
       "\n",
       "   c240bDscr  startStop  \n",
       "0       True       True  \n",
       "1       True       True  \n",
       "2       True       True  \n",
       "3       True       True  \n",
       "4       True       True  "
      ]
     },
     "execution_count": 57,
     "metadata": {},
     "output_type": "execute_result"
    }
   ],
   "source": [
    "vehicles_df[columns_with_nulls].isna().head()"
   ]
  },
  {
   "cell_type": "code",
   "execution_count": 58,
   "metadata": {},
   "outputs": [
    {
     "data": {
      "text/plain": [
       "cylinders      2.24\n",
       "displ          2.23\n",
       "drive          2.44\n",
       "eng_dscr      36.60\n",
       "mpgData        0.40\n",
       "trany          0.02\n",
       "guzzler       94.24\n",
       "trans_dscr    69.01\n",
       "tCharger      77.60\n",
       "sCharger      97.73\n",
       "atvType       87.97\n",
       "fuelType2     96.03\n",
       "rangeA        96.04\n",
       "evMotor       93.96\n",
       "mfrCode       63.47\n",
       "c240Dscr      99.71\n",
       "c240bDscr     99.72\n",
       "startStop     65.28\n",
       "dtype: float64"
      ]
     },
     "execution_count": 58,
     "metadata": {},
     "output_type": "execute_result"
    }
   ],
   "source": [
    "vehicles_df[columns_with_nulls].isna().mean().mul(100).round(2)"
   ]
  },
  {
   "cell_type": "markdown",
   "metadata": {},
   "source": [
    "Por otro lado las columnas `c240Dscr` y `c240bDscr` tienen que ver con los cargadores eléctricos y por eso más del 90% de los valores son nulos.\n",
    "\n",
    "Vamos a seleccionar dos columnas:\n",
    "\n",
    "- `city08`: City MPG for fuelType1 - Nota fuelType1 según la descripción, hay vehiculos que usan dos tipos de combustible, type 1 sería el primario.\n",
    "- `highway08` Highway MPG for fuelType1"
   ]
  },
  {
   "cell_type": "code",
   "execution_count": 59,
   "metadata": {},
   "outputs": [
    {
     "data": {
      "text/html": [
       "<div>\n",
       "<style scoped>\n",
       "    .dataframe tbody tr th:only-of-type {\n",
       "        vertical-align: middle;\n",
       "    }\n",
       "\n",
       "    .dataframe tbody tr th {\n",
       "        vertical-align: top;\n",
       "    }\n",
       "\n",
       "    .dataframe thead th {\n",
       "        text-align: right;\n",
       "    }\n",
       "</style>\n",
       "<table border=\"1\" class=\"dataframe\">\n",
       "  <thead>\n",
       "    <tr style=\"text-align: right;\">\n",
       "      <th></th>\n",
       "      <th>city08</th>\n",
       "      <th>highway08</th>\n",
       "    </tr>\n",
       "  </thead>\n",
       "  <tbody>\n",
       "    <tr>\n",
       "      <th>0</th>\n",
       "      <td>19</td>\n",
       "      <td>25</td>\n",
       "    </tr>\n",
       "    <tr>\n",
       "      <th>1</th>\n",
       "      <td>9</td>\n",
       "      <td>14</td>\n",
       "    </tr>\n",
       "    <tr>\n",
       "      <th>2</th>\n",
       "      <td>23</td>\n",
       "      <td>33</td>\n",
       "    </tr>\n",
       "    <tr>\n",
       "      <th>3</th>\n",
       "      <td>10</td>\n",
       "      <td>12</td>\n",
       "    </tr>\n",
       "    <tr>\n",
       "      <th>4</th>\n",
       "      <td>17</td>\n",
       "      <td>23</td>\n",
       "    </tr>\n",
       "  </tbody>\n",
       "</table>\n",
       "</div>"
      ],
      "text/plain": [
       "   city08  highway08\n",
       "0      19         25\n",
       "1       9         14\n",
       "2      23         33\n",
       "3      10         12\n",
       "4      17         23"
      ]
     },
     "execution_count": 59,
     "metadata": {},
     "output_type": "execute_result"
    }
   ],
   "source": [
    "city_highway = vehicles_df[[\"city08\", \"highway08\"]]\n",
    "city_highway.head()"
   ]
  },
  {
   "cell_type": "markdown",
   "metadata": {},
   "source": [
    "Estos números indican el consumo tanto en la ciudad como en autopista en millas por hora.\n",
    "\n",
    "Y si no hay valore nulos en estas columnas, cómo es que el consumo de combustible en lso autos eléctricos?\n",
    "\n",
    "La documentación al rescate: *For electric and CNG vehicles this number is MPGe (gasoline equivalent miles per gallon).* - En resumen, usan una medida equivalente."
   ]
  },
  {
   "cell_type": "code",
   "execution_count": 60,
   "metadata": {},
   "outputs": [
    {
     "data": {
      "text/html": [
       "<div>\n",
       "<style scoped>\n",
       "    .dataframe tbody tr th:only-of-type {\n",
       "        vertical-align: middle;\n",
       "    }\n",
       "\n",
       "    .dataframe tbody tr th {\n",
       "        vertical-align: top;\n",
       "    }\n",
       "\n",
       "    .dataframe thead th {\n",
       "        text-align: right;\n",
       "    }\n",
       "</style>\n",
       "<table border=\"1\" class=\"dataframe\">\n",
       "  <thead>\n",
       "    <tr style=\"text-align: right;\">\n",
       "      <th></th>\n",
       "      <th>city08</th>\n",
       "      <th>highway08</th>\n",
       "    </tr>\n",
       "  </thead>\n",
       "  <tbody>\n",
       "    <tr>\n",
       "      <th>count</th>\n",
       "      <td>48543.0</td>\n",
       "      <td>48543.0</td>\n",
       "    </tr>\n",
       "    <tr>\n",
       "      <th>mean</th>\n",
       "      <td>20.121954</td>\n",
       "      <td>25.964052</td>\n",
       "    </tr>\n",
       "    <tr>\n",
       "      <th>std</th>\n",
       "      <td>13.175043</td>\n",
       "      <td>11.422862</td>\n",
       "    </tr>\n",
       "    <tr>\n",
       "      <th>min</th>\n",
       "      <td>6.0</td>\n",
       "      <td>9.0</td>\n",
       "    </tr>\n",
       "    <tr>\n",
       "      <th>25%</th>\n",
       "      <td>15.0</td>\n",
       "      <td>20.0</td>\n",
       "    </tr>\n",
       "    <tr>\n",
       "      <th>50%</th>\n",
       "      <td>18.0</td>\n",
       "      <td>24.0</td>\n",
       "    </tr>\n",
       "    <tr>\n",
       "      <th>75%</th>\n",
       "      <td>21.0</td>\n",
       "      <td>28.0</td>\n",
       "    </tr>\n",
       "    <tr>\n",
       "      <th>max</th>\n",
       "      <td>153.0</td>\n",
       "      <td>142.0</td>\n",
       "    </tr>\n",
       "  </tbody>\n",
       "</table>\n",
       "</div>"
      ],
      "text/plain": [
       "          city08  highway08\n",
       "count    48543.0    48543.0\n",
       "mean   20.121954  25.964052\n",
       "std    13.175043  11.422862\n",
       "min          6.0        9.0\n",
       "25%         15.0       20.0\n",
       "50%         18.0       24.0\n",
       "75%         21.0       28.0\n",
       "max        153.0      142.0"
      ]
     },
     "execution_count": 60,
     "metadata": {},
     "output_type": "execute_result"
    }
   ],
   "source": [
    "city_highway.describe()"
   ]
  },
  {
   "cell_type": "markdown",
   "metadata": {},
   "source": [
    "## Agregación"
   ]
  },
  {
   "cell_type": "code",
   "execution_count": 61,
   "metadata": {},
   "outputs": [
    {
     "data": {
      "text/plain": [
       "20.12195373174299"
      ]
     },
     "execution_count": 61,
     "metadata": {},
     "output_type": "execute_result"
    }
   ],
   "source": [
    "city_highway[\"city08\"].mean()"
   ]
  },
  {
   "cell_type": "code",
   "execution_count": 64,
   "metadata": {},
   "outputs": [
    {
     "data": {
      "text/plain": [
       "False"
      ]
     },
     "execution_count": 64,
     "metadata": {},
     "output_type": "execute_result"
    }
   ],
   "source": [
    "# chequea si todos los valores on únicos - True, False\n",
    "city_highway[\"city08\"].is_unique"
   ]
  },
  {
   "cell_type": "code",
   "execution_count": 67,
   "metadata": {},
   "outputs": [
    {
     "data": {
      "text/plain": [
       "20.0"
      ]
     },
     "execution_count": 67,
     "metadata": {},
     "output_type": "execute_result"
    }
   ],
   "source": [
    "city_highway[\"city08\"].quantile(.7)"
   ]
  },
  {
   "cell_type": "code",
   "execution_count": 72,
   "metadata": {},
   "outputs": [
    {
     "data": {
      "text/plain": [
       "0.10    13.0\n",
       "0.30    15.0\n",
       "0.76    21.0\n",
       "Name: city08, dtype: double[pyarrow]"
      ]
     },
     "execution_count": 72,
     "metadata": {},
     "output_type": "execute_result"
    }
   ],
   "source": [
    "# le puedes pasar una lista de cuantiles\n",
    "city_highway[\"city08\"].quantile([0.1, 0.3, 0.76])"
   ]
  },
  {
   "cell_type": "code",
   "execution_count": 69,
   "metadata": {},
   "outputs": [
    {
     "data": {
      "text/plain": [
       "0.0      6.0\n",
       "0.1     13.0\n",
       "0.2     15.0\n",
       "0.3     15.0\n",
       "0.4     17.0\n",
       "0.5     18.0\n",
       "0.6     19.0\n",
       "0.7     20.0\n",
       "0.8     22.0\n",
       "0.9     26.0\n",
       "1.0    153.0\n",
       "Name: city08, dtype: double[pyarrow]"
      ]
     },
     "execution_count": 69,
     "metadata": {},
     "output_type": "execute_result"
    }
   ],
   "source": [
    "import numpy as np\n",
    "\n",
    "rango_quantiles = np.arange(0, 1.1, 0.1)\n",
    "city_highway[\"city08\"].quantile(rango_quantiles)"
   ]
  },
  {
   "cell_type": "markdown",
   "metadata": {},
   "source": [
    "El ser una `pandas.Series` podemos operar como tal, solo porque sí, en vez de cuantiles, lo convertimos en percentiles al multuplicar por 100."
   ]
  },
  {
   "cell_type": "code",
   "execution_count": null,
   "metadata": {},
   "outputs": [],
   "source": [
    "quantiles_mpg = city_highway[\"city08\"].quantile(rango_quantiles)\n",
    "\n",
    "# al ser una Series, los quantiles son el index\n",
    "quantiles_mpg.index = quantiles_mpg.index * 100"
   ]
  },
  {
   "cell_type": "code",
   "execution_count": 71,
   "metadata": {},
   "outputs": [
    {
     "data": {
      "text/plain": [
       "0.0        6.0\n",
       "10.0      13.0\n",
       "20.0      15.0\n",
       "30.0      15.0\n",
       "40.0      17.0\n",
       "50.0      18.0\n",
       "60.0      19.0\n",
       "70.0      20.0\n",
       "80.0      22.0\n",
       "90.0      26.0\n",
       "100.0    153.0\n",
       "Name: city08, dtype: double[pyarrow]"
      ]
     },
     "execution_count": 71,
     "metadata": {},
     "output_type": "execute_result"
    }
   ],
   "source": [
    "quantiles_mpg"
   ]
  },
  {
   "cell_type": "code",
   "execution_count": 76,
   "metadata": {},
   "outputs": [],
   "source": [
    "city_highway = city_highway.astype(\"int16[pyarrow]\")"
   ]
  },
  {
   "cell_type": "code",
   "execution_count": 77,
   "metadata": {},
   "outputs": [
    {
     "data": {
      "text/html": [
       "<div>\n",
       "<style scoped>\n",
       "    .dataframe tbody tr th:only-of-type {\n",
       "        vertical-align: middle;\n",
       "    }\n",
       "\n",
       "    .dataframe tbody tr th {\n",
       "        vertical-align: top;\n",
       "    }\n",
       "\n",
       "    .dataframe thead th {\n",
       "        text-align: right;\n",
       "    }\n",
       "</style>\n",
       "<table border=\"1\" class=\"dataframe\">\n",
       "  <thead>\n",
       "    <tr style=\"text-align: right;\">\n",
       "      <th></th>\n",
       "      <th>city08</th>\n",
       "      <th>highway08</th>\n",
       "    </tr>\n",
       "  </thead>\n",
       "  <tbody>\n",
       "    <tr>\n",
       "      <th>0</th>\n",
       "      <td>19</td>\n",
       "      <td>25</td>\n",
       "    </tr>\n",
       "    <tr>\n",
       "      <th>1</th>\n",
       "      <td>9</td>\n",
       "      <td>14</td>\n",
       "    </tr>\n",
       "    <tr>\n",
       "      <th>2</th>\n",
       "      <td>23</td>\n",
       "      <td>33</td>\n",
       "    </tr>\n",
       "    <tr>\n",
       "      <th>3</th>\n",
       "      <td>10</td>\n",
       "      <td>12</td>\n",
       "    </tr>\n",
       "    <tr>\n",
       "      <th>4</th>\n",
       "      <td>17</td>\n",
       "      <td>23</td>\n",
       "    </tr>\n",
       "  </tbody>\n",
       "</table>\n",
       "</div>"
      ],
      "text/plain": [
       "   city08  highway08\n",
       "0      19         25\n",
       "1       9         14\n",
       "2      23         33\n",
       "3      10         12\n",
       "4      17         23"
      ]
     },
     "execution_count": 77,
     "metadata": {},
     "output_type": "execute_result"
    }
   ],
   "source": [
    "city_highway.head()"
   ]
  },
  {
   "cell_type": "code",
   "execution_count": 78,
   "metadata": {},
   "outputs": [
    {
     "data": {
      "text/plain": [
       "city08       48543\n",
       "highway08    48543\n",
       "dtype: int64"
      ]
     },
     "execution_count": 78,
     "metadata": {},
     "output_type": "execute_result"
    }
   ],
   "source": [
    "city_highway.count()"
   ]
  },
  {
   "cell_type": "code",
   "execution_count": 93,
   "metadata": {},
   "outputs": [
    {
     "data": {
      "text/plain": [
       "city08       58\n",
       "highway08    61\n",
       "cylinders    16\n",
       "dtype: int64[pyarrow]"
      ]
     },
     "execution_count": 93,
     "metadata": {},
     "output_type": "execute_result"
    }
   ],
   "source": [
    "city_highway.max()"
   ]
  },
  {
   "cell_type": "code",
   "execution_count": 94,
   "metadata": {},
   "outputs": [
    {
     "data": {
      "text/plain": [
       "city08       6\n",
       "highway08    9\n",
       "cylinders    2\n",
       "dtype: int64[pyarrow]"
      ]
     },
     "execution_count": 94,
     "metadata": {},
     "output_type": "execute_result"
    }
   ],
   "source": [
    "city_highway.min()"
   ]
  },
  {
   "cell_type": "code",
   "execution_count": 95,
   "metadata": {},
   "outputs": [
    {
     "data": {
      "text/plain": [
       "city08       5.382658\n",
       "highway08    6.090383\n",
       "cylinders    1.773343\n",
       "dtype: double[pyarrow]"
      ]
     },
     "execution_count": 95,
     "metadata": {},
     "output_type": "execute_result"
    }
   ],
   "source": [
    "city_highway.std()"
   ]
  },
  {
   "cell_type": "code",
   "execution_count": 96,
   "metadata": {},
   "outputs": [
    {
     "data": {
      "text/plain": [
       "city08        28.97301\n",
       "highway08    37.092762\n",
       "cylinders     3.144746\n",
       "dtype: double[pyarrow]"
      ]
     },
     "execution_count": 96,
     "metadata": {},
     "output_type": "execute_result"
    }
   ],
   "source": [
    "city_highway.var()"
   ]
  },
  {
   "cell_type": "code",
   "execution_count": 106,
   "metadata": {},
   "outputs": [
    {
     "data": {
      "text/html": [
       "<div>\n",
       "<style scoped>\n",
       "    .dataframe tbody tr th:only-of-type {\n",
       "        vertical-align: middle;\n",
       "    }\n",
       "\n",
       "    .dataframe tbody tr th {\n",
       "        vertical-align: top;\n",
       "    }\n",
       "\n",
       "    .dataframe thead th {\n",
       "        text-align: right;\n",
       "    }\n",
       "</style>\n",
       "<table border=\"1\" class=\"dataframe\">\n",
       "  <thead>\n",
       "    <tr style=\"text-align: right;\">\n",
       "      <th></th>\n",
       "      <th>city08</th>\n",
       "      <th>highway08</th>\n",
       "      <th>cylinders</th>\n",
       "    </tr>\n",
       "  </thead>\n",
       "  <tbody>\n",
       "    <tr>\n",
       "      <th>min</th>\n",
       "      <td>6.000000</td>\n",
       "      <td>9.000000</td>\n",
       "      <td>2.000000</td>\n",
       "    </tr>\n",
       "    <tr>\n",
       "      <th>max</th>\n",
       "      <td>58.000000</td>\n",
       "      <td>61.000000</td>\n",
       "      <td>16.000000</td>\n",
       "    </tr>\n",
       "    <tr>\n",
       "      <th>mean</th>\n",
       "      <td>18.372097</td>\n",
       "      <td>24.555333</td>\n",
       "      <td>5.696384</td>\n",
       "    </tr>\n",
       "    <tr>\n",
       "      <th>std</th>\n",
       "      <td>5.382658</td>\n",
       "      <td>6.090383</td>\n",
       "      <td>1.773343</td>\n",
       "    </tr>\n",
       "    <tr>\n",
       "      <th>std_np</th>\n",
       "      <td>5.382602</td>\n",
       "      <td>6.090319</td>\n",
       "      <td>1.773324</td>\n",
       "    </tr>\n",
       "    <tr>\n",
       "      <th>std_half</th>\n",
       "      <td>2.691329</td>\n",
       "      <td>3.045191</td>\n",
       "      <td>0.886672</td>\n",
       "    </tr>\n",
       "    <tr>\n",
       "      <th>var</th>\n",
       "      <td>28.973010</td>\n",
       "      <td>37.092762</td>\n",
       "      <td>3.144746</td>\n",
       "    </tr>\n",
       "  </tbody>\n",
       "</table>\n",
       "</div>"
      ],
      "text/plain": [
       "             city08  highway08  cylinders\n",
       "min        6.000000   9.000000   2.000000\n",
       "max       58.000000  61.000000  16.000000\n",
       "mean      18.372097  24.555333   5.696384\n",
       "std        5.382658   6.090383   1.773343\n",
       "std_np     5.382602   6.090319   1.773324\n",
       "std_half   2.691329   3.045191   0.886672\n",
       "var       28.973010  37.092762   3.144746"
      ]
     },
     "execution_count": 106,
     "metadata": {},
     "output_type": "execute_result"
    }
   ],
   "source": [
    "def std_half(x):\n",
    "    return x.std() / 2\n",
    "\n",
    "def std_np(x):\n",
    "    return np.std(x.to_numpy())\n",
    "\n",
    "city_highway.agg([\"min\", \"max\", \"mean\", \"std\", std_np, std_half, \"var\"])"
   ]
  },
  {
   "cell_type": "markdown",
   "metadata": {},
   "source": [
    "Como dato curioso, nota la diferencia en la desviación estándar dada for `std` y la dada por numpy `std_np`. La razón de esto es que pandas usa el ajunte $n-1$ y numpy una $n$.\n",
    "\n",
    "Pandas:\n",
    "$$\n",
    "S = \\sqrt{\\frac{1}{N - 1} \\sum_{i=1}^{N} (x_i - \\bar{x})^2}\n",
    "$$\n",
    "\n",
    "Numpy\n",
    "$$\n",
    "\\sigma = \\sqrt{\\frac{1}{N} \\sum_{i=1}^{N} (x_i - \\mu)^2}\n",
    "$$\n",
    "\n",
    "\n"
   ]
  },
  {
   "cell_type": "markdown",
   "metadata": {},
   "source": [
    "Se puede cambiar tanto en pandas como numpy con el parámetro `ddof` -> `df.std(ddof=0)` (`default=1` y es lo mejor en la mayoría de los casos)"
   ]
  },
  {
   "cell_type": "code",
   "execution_count": 79,
   "metadata": {},
   "outputs": [
    {
     "data": {
      "text/plain": [
       "(48543, 2)"
      ]
     },
     "execution_count": 79,
     "metadata": {},
     "output_type": "execute_result"
    }
   ],
   "source": [
    "city_highway.shape"
   ]
  }
 ],
 "metadata": {
  "kernelspec": {
   "display_name": "curso_de_pandas",
   "language": "python",
   "name": "python3"
  },
  "language_info": {
   "codemirror_mode": {
    "name": "ipython",
    "version": 3
   },
   "file_extension": ".py",
   "mimetype": "text/x-python",
   "name": "python",
   "nbconvert_exporter": "python",
   "pygments_lexer": "ipython3",
   "version": "3.13.2"
  }
 },
 "nbformat": 4,
 "nbformat_minor": 2
}
