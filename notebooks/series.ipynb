{
 "cells": [
  {
   "cell_type": "code",
   "execution_count": 1,
   "id": "d230ec50-04ed-4e51-aadb-02e9faa656eb",
   "metadata": {},
   "outputs": [],
   "source": [
    "import pandas as pd"
   ]
  },
  {
   "cell_type": "code",
   "execution_count": 2,
   "id": "0ee8317c-592d-450b-887a-41a0ecde3594",
   "metadata": {},
   "outputs": [],
   "source": [
    "series = {\n",
    "    \"colores\": [\"rojo\", \"naranja\", \"verde\", \"amarillo\"],\n",
    "    \"frutas\": [\"manzana\", \"mandarina\", \"kiwi\", \"pina\"]\n",
    "}"
   ]
  },
  {
   "cell_type": "code",
   "execution_count": 3,
   "id": "fa05f841-b39b-419b-a455-69b9e5ed848a",
   "metadata": {},
   "outputs": [
    {
     "data": {
      "text/plain": [
       "colores    [rojo, naranja, verde, amarillo]\n",
       "frutas     [manzana, mandarina, kiwi, pina]\n",
       "dtype: object"
      ]
     },
     "execution_count": 3,
     "metadata": {},
     "output_type": "execute_result"
    }
   ],
   "source": [
    "pd.Series(series)"
   ]
  },
  {
   "cell_type": "code",
   "execution_count": 4,
   "id": "42107e08-b541-4c11-99f2-c7445151abc4",
   "metadata": {},
   "outputs": [
    {
     "data": {
      "text/plain": [
       "manzana          rojo\n",
       "mandarina     naranja\n",
       "kiwi            verde\n",
       "pina         amarillo\n",
       "Name: colores, dtype: object"
      ]
     },
     "execution_count": 4,
     "metadata": {},
     "output_type": "execute_result"
    }
   ],
   "source": [
    "pd.Series(\n",
    "    [\"rojo\", \"naranja\", \"verde\", \"amarillo\"],\n",
    "    name=\"colores\",\n",
    "    index=[\"manzana\", \"mandarina\", \"kiwi\", \"pina\"],\n",
    ")"
   ]
  },
  {
   "cell_type": "code",
   "execution_count": 5,
   "id": "03287700-d501-43af-9e13-9b9112038135",
   "metadata": {},
   "outputs": [
    {
     "data": {
      "text/plain": [
       "0        rojo\n",
       "1     naranja\n",
       "2       verde\n",
       "3    amarillo\n",
       "Name: colores, dtype: object"
      ]
     },
     "execution_count": 5,
     "metadata": {},
     "output_type": "execute_result"
    }
   ],
   "source": [
    "pd.Series(\n",
    "    [\"rojo\", \"naranja\", \"verde\", \"amarillo\"],\n",
    "    name=\"colores\",\n",
    ")"
   ]
  },
  {
   "cell_type": "code",
   "execution_count": 6,
   "id": "648f1421-a07c-4269-aa86-046919b41b9c",
   "metadata": {},
   "outputs": [
    {
     "data": {
      "text/plain": [
       "0        rojo\n",
       "1     naranja\n",
       "2       verde\n",
       "3    amarillo\n",
       "dtype: object"
      ]
     },
     "execution_count": 6,
     "metadata": {},
     "output_type": "execute_result"
    }
   ],
   "source": [
    "pd.Series(\n",
    "    [\"rojo\", \"naranja\", \"verde\", \"amarillo\"]\n",
    ")"
   ]
  },
  {
   "cell_type": "code",
   "execution_count": 7,
   "id": "78514947-32a7-4d12-a463-b6acefb209fc",
   "metadata": {},
   "outputs": [
    {
     "data": {
      "text/plain": [
       "0        rojo\n",
       "1     naranja\n",
       "2       verde\n",
       "3    amarillo\n",
       "dtype: string"
      ]
     },
     "execution_count": 7,
     "metadata": {},
     "output_type": "execute_result"
    }
   ],
   "source": [
    "pd.Series(\n",
    "    [\"rojo\", \"naranja\", \"verde\", \"amarillo\"], dtype=\"string\"\n",
    ")"
   ]
  },
  {
   "cell_type": "code",
   "execution_count": 9,
   "id": "ad9f7e22-a8c1-462a-bf79-61d7580ea26a",
   "metadata": {},
   "outputs": [],
   "source": [
    "colores = pd.Series([\"rojo\", \"naranja\", \"verde\", \"amarillo\"], name=\"colores\")\n",
    "frutas = pd.Series([\"manzana\", \"mandarina\", \"kiwi\", \"pina\"], name=\"frutas\")"
   ]
  },
  {
   "cell_type": "code",
   "execution_count": 10,
   "id": "a4463f05-348b-4671-a2cd-8750b90cc70a",
   "metadata": {},
   "outputs": [
    {
     "data": {
      "text/plain": [
       "0        rojo\n",
       "1     naranja\n",
       "2       verde\n",
       "3    amarillo\n",
       "Name: colores, dtype: object"
      ]
     },
     "execution_count": 10,
     "metadata": {},
     "output_type": "execute_result"
    }
   ],
   "source": [
    "colores"
   ]
  },
  {
   "cell_type": "code",
   "execution_count": 11,
   "id": "9d5cd190-863e-41e3-9dd2-6c974dbc2aa6",
   "metadata": {},
   "outputs": [
    {
     "data": {
      "text/plain": [
       "0      manzana\n",
       "1    mandarina\n",
       "2         kiwi\n",
       "3         pina\n",
       "Name: frutas, dtype: object"
      ]
     },
     "execution_count": 11,
     "metadata": {},
     "output_type": "execute_result"
    }
   ],
   "source": [
    "frutas"
   ]
  },
  {
   "cell_type": "code",
   "execution_count": 12,
   "id": "2ffd7781-edd2-4aeb-8f9e-54abd06be812",
   "metadata": {},
   "outputs": [
    {
     "data": {
      "text/html": [
       "<div>\n",
       "<style scoped>\n",
       "    .dataframe tbody tr th:only-of-type {\n",
       "        vertical-align: middle;\n",
       "    }\n",
       "\n",
       "    .dataframe tbody tr th {\n",
       "        vertical-align: top;\n",
       "    }\n",
       "\n",
       "    .dataframe thead th {\n",
       "        text-align: right;\n",
       "    }\n",
       "</style>\n",
       "<table border=\"1\" class=\"dataframe\">\n",
       "  <thead>\n",
       "    <tr style=\"text-align: right;\">\n",
       "      <th></th>\n",
       "      <th>frutas</th>\n",
       "    </tr>\n",
       "  </thead>\n",
       "  <tbody>\n",
       "    <tr>\n",
       "      <th>0</th>\n",
       "      <td>manzana</td>\n",
       "    </tr>\n",
       "    <tr>\n",
       "      <th>1</th>\n",
       "      <td>mandarina</td>\n",
       "    </tr>\n",
       "    <tr>\n",
       "      <th>2</th>\n",
       "      <td>kiwi</td>\n",
       "    </tr>\n",
       "    <tr>\n",
       "      <th>3</th>\n",
       "      <td>pina</td>\n",
       "    </tr>\n",
       "  </tbody>\n",
       "</table>\n",
       "</div>"
      ],
      "text/plain": [
       "      frutas\n",
       "0    manzana\n",
       "1  mandarina\n",
       "2       kiwi\n",
       "3       pina"
      ]
     },
     "execution_count": 12,
     "metadata": {},
     "output_type": "execute_result"
    }
   ],
   "source": [
    "frutas_df = frutas.to_frame()\n",
    "frutas_df"
   ]
  },
  {
   "cell_type": "code",
   "execution_count": 13,
   "id": "94184799-036b-429b-bc01-3ff361e7e8ae",
   "metadata": {},
   "outputs": [
    {
     "data": {
      "text/html": [
       "<div>\n",
       "<style scoped>\n",
       "    .dataframe tbody tr th:only-of-type {\n",
       "        vertical-align: middle;\n",
       "    }\n",
       "\n",
       "    .dataframe tbody tr th {\n",
       "        vertical-align: top;\n",
       "    }\n",
       "\n",
       "    .dataframe thead th {\n",
       "        text-align: right;\n",
       "    }\n",
       "</style>\n",
       "<table border=\"1\" class=\"dataframe\">\n",
       "  <thead>\n",
       "    <tr style=\"text-align: right;\">\n",
       "      <th></th>\n",
       "      <th>frutas</th>\n",
       "      <th>colores</th>\n",
       "    </tr>\n",
       "  </thead>\n",
       "  <tbody>\n",
       "    <tr>\n",
       "      <th>0</th>\n",
       "      <td>manzana</td>\n",
       "      <td>rojo</td>\n",
       "    </tr>\n",
       "    <tr>\n",
       "      <th>1</th>\n",
       "      <td>mandarina</td>\n",
       "      <td>naranja</td>\n",
       "    </tr>\n",
       "    <tr>\n",
       "      <th>2</th>\n",
       "      <td>kiwi</td>\n",
       "      <td>verde</td>\n",
       "    </tr>\n",
       "    <tr>\n",
       "      <th>3</th>\n",
       "      <td>pina</td>\n",
       "      <td>amarillo</td>\n",
       "    </tr>\n",
       "  </tbody>\n",
       "</table>\n",
       "</div>"
      ],
      "text/plain": [
       "      frutas   colores\n",
       "0    manzana      rojo\n",
       "1  mandarina   naranja\n",
       "2       kiwi     verde\n",
       "3       pina  amarillo"
      ]
     },
     "execution_count": 13,
     "metadata": {},
     "output_type": "execute_result"
    }
   ],
   "source": [
    "frutas_df[\"colores\"] = colores\n",
    "frutas_df"
   ]
  },
  {
   "cell_type": "code",
   "execution_count": 14,
   "id": "015ae5b7-6836-45f9-8060-de72deb1609e",
   "metadata": {},
   "outputs": [
    {
     "data": {
      "text/html": [
       "<div>\n",
       "<style scoped>\n",
       "    .dataframe tbody tr th:only-of-type {\n",
       "        vertical-align: middle;\n",
       "    }\n",
       "\n",
       "    .dataframe tbody tr th {\n",
       "        vertical-align: top;\n",
       "    }\n",
       "\n",
       "    .dataframe thead th {\n",
       "        text-align: right;\n",
       "    }\n",
       "</style>\n",
       "<table border=\"1\" class=\"dataframe\">\n",
       "  <thead>\n",
       "    <tr style=\"text-align: right;\">\n",
       "      <th></th>\n",
       "      <th>frutas</th>\n",
       "      <th>colores</th>\n",
       "      <th>cantidad</th>\n",
       "    </tr>\n",
       "  </thead>\n",
       "  <tbody>\n",
       "    <tr>\n",
       "      <th>0</th>\n",
       "      <td>manzana</td>\n",
       "      <td>rojo</td>\n",
       "      <td>3</td>\n",
       "    </tr>\n",
       "    <tr>\n",
       "      <th>1</th>\n",
       "      <td>mandarina</td>\n",
       "      <td>naranja</td>\n",
       "      <td>5</td>\n",
       "    </tr>\n",
       "    <tr>\n",
       "      <th>2</th>\n",
       "      <td>kiwi</td>\n",
       "      <td>verde</td>\n",
       "      <td>6</td>\n",
       "    </tr>\n",
       "    <tr>\n",
       "      <th>3</th>\n",
       "      <td>pina</td>\n",
       "      <td>amarillo</td>\n",
       "      <td>9</td>\n",
       "    </tr>\n",
       "  </tbody>\n",
       "</table>\n",
       "</div>"
      ],
      "text/plain": [
       "      frutas   colores  cantidad\n",
       "0    manzana      rojo         3\n",
       "1  mandarina   naranja         5\n",
       "2       kiwi     verde         6\n",
       "3       pina  amarillo         9"
      ]
     },
     "execution_count": 14,
     "metadata": {},
     "output_type": "execute_result"
    }
   ],
   "source": [
    "frutas_df[\"cantidad\"] = [3, 5, 6, 9]\n",
    "frutas_df"
   ]
  },
  {
   "cell_type": "code",
   "execution_count": 15,
   "id": "da4290c9-5a76-49eb-81db-a1055b6accde",
   "metadata": {},
   "outputs": [
    {
     "data": {
      "text/plain": [
       "0    3\n",
       "1    5\n",
       "2    6\n",
       "3    9\n",
       "Name: cantidad, dtype: int64"
      ]
     },
     "execution_count": 15,
     "metadata": {},
     "output_type": "execute_result"
    }
   ],
   "source": [
    "frutas_df[\"cantidad\"]"
   ]
  },
  {
   "cell_type": "code",
   "execution_count": 16,
   "id": "89f273e7-ff9f-4943-83a6-3c7ed860252f",
   "metadata": {},
   "outputs": [
    {
     "data": {
      "text/html": [
       "<div>\n",
       "<style scoped>\n",
       "    .dataframe tbody tr th:only-of-type {\n",
       "        vertical-align: middle;\n",
       "    }\n",
       "\n",
       "    .dataframe tbody tr th {\n",
       "        vertical-align: top;\n",
       "    }\n",
       "\n",
       "    .dataframe thead th {\n",
       "        text-align: right;\n",
       "    }\n",
       "</style>\n",
       "<table border=\"1\" class=\"dataframe\">\n",
       "  <thead>\n",
       "    <tr style=\"text-align: right;\">\n",
       "      <th></th>\n",
       "      <th>cantidad</th>\n",
       "    </tr>\n",
       "  </thead>\n",
       "  <tbody>\n",
       "    <tr>\n",
       "      <th>0</th>\n",
       "      <td>3</td>\n",
       "    </tr>\n",
       "    <tr>\n",
       "      <th>1</th>\n",
       "      <td>5</td>\n",
       "    </tr>\n",
       "    <tr>\n",
       "      <th>2</th>\n",
       "      <td>6</td>\n",
       "    </tr>\n",
       "    <tr>\n",
       "      <th>3</th>\n",
       "      <td>9</td>\n",
       "    </tr>\n",
       "  </tbody>\n",
       "</table>\n",
       "</div>"
      ],
      "text/plain": [
       "   cantidad\n",
       "0         3\n",
       "1         5\n",
       "2         6\n",
       "3         9"
      ]
     },
     "execution_count": 16,
     "metadata": {},
     "output_type": "execute_result"
    }
   ],
   "source": [
    "frutas_df[[\"cantidad\"]]"
   ]
  },
  {
   "cell_type": "code",
   "execution_count": 17,
   "id": "60221e1e-9a4f-40d8-8f78-068a75569bb3",
   "metadata": {},
   "outputs": [
    {
     "data": {
      "text/html": [
       "<div>\n",
       "<style scoped>\n",
       "    .dataframe tbody tr th:only-of-type {\n",
       "        vertical-align: middle;\n",
       "    }\n",
       "\n",
       "    .dataframe tbody tr th {\n",
       "        vertical-align: top;\n",
       "    }\n",
       "\n",
       "    .dataframe thead th {\n",
       "        text-align: right;\n",
       "    }\n",
       "</style>\n",
       "<table border=\"1\" class=\"dataframe\">\n",
       "  <thead>\n",
       "    <tr style=\"text-align: right;\">\n",
       "      <th></th>\n",
       "      <th>frutas</th>\n",
       "      <th>cantidad</th>\n",
       "    </tr>\n",
       "  </thead>\n",
       "  <tbody>\n",
       "    <tr>\n",
       "      <th>0</th>\n",
       "      <td>manzana</td>\n",
       "      <td>3</td>\n",
       "    </tr>\n",
       "    <tr>\n",
       "      <th>1</th>\n",
       "      <td>mandarina</td>\n",
       "      <td>5</td>\n",
       "    </tr>\n",
       "    <tr>\n",
       "      <th>2</th>\n",
       "      <td>kiwi</td>\n",
       "      <td>6</td>\n",
       "    </tr>\n",
       "    <tr>\n",
       "      <th>3</th>\n",
       "      <td>pina</td>\n",
       "      <td>9</td>\n",
       "    </tr>\n",
       "  </tbody>\n",
       "</table>\n",
       "</div>"
      ],
      "text/plain": [
       "      frutas  cantidad\n",
       "0    manzana         3\n",
       "1  mandarina         5\n",
       "2       kiwi         6\n",
       "3       pina         9"
      ]
     },
     "execution_count": 17,
     "metadata": {},
     "output_type": "execute_result"
    }
   ],
   "source": [
    "frutas_df[[\"frutas\", \"cantidad\"]]"
   ]
  },
  {
   "cell_type": "code",
   "execution_count": 18,
   "id": "b0cd939f-204c-44f1-a4ab-f8079d29f58b",
   "metadata": {},
   "outputs": [
    {
     "data": {
      "text/plain": [
       "0    0\n",
       "1    1\n",
       "2    2\n",
       "3    3\n",
       "4    4\n",
       "Name: naturales, dtype: int64"
      ]
     },
     "execution_count": 18,
     "metadata": {},
     "output_type": "execute_result"
    }
   ],
   "source": [
    "series = pd.Series(range(1000000), name=\"naturales\")\n",
    "series.head()"
   ]
  },
  {
   "cell_type": "code",
   "execution_count": 19,
   "id": "35eb09ca-65b3-4f56-9a84-94fc09e4efb1",
   "metadata": {},
   "outputs": [
    {
     "name": "stdout",
     "output_type": "stream",
     "text": [
      "253 μs ± 7.07 μs per loop (mean ± std. dev. of 7 runs, 1,000 loops each)\n"
     ]
    }
   ],
   "source": [
    "%%timeit\n",
    "series.mul(2)"
   ]
  },
  {
   "cell_type": "code",
   "execution_count": 20,
   "id": "bf559085-1341-4511-9215-b0edc952b6f9",
   "metadata": {},
   "outputs": [
    {
     "name": "stdout",
     "output_type": "stream",
     "text": [
      "55 ms ± 460 μs per loop (mean ± std. dev. of 7 runs, 10 loops each)\n"
     ]
    }
   ],
   "source": [
    "%%timeit\n",
    "for i in series:\n",
    "    i * 2"
   ]
  },
  {
   "cell_type": "code",
   "execution_count": 21,
   "id": "efe2cc86-c2d0-4f35-b339-57dcf274cefc",
   "metadata": {},
   "outputs": [
    {
     "data": {
      "text/plain": [
       "0    0\n",
       "1    1\n",
       "2    2\n",
       "3    3\n",
       "4    4\n",
       "dtype: int64"
      ]
     },
     "execution_count": 21,
     "metadata": {},
     "output_type": "execute_result"
    }
   ],
   "source": [
    "pd.Series(range(5), dtype=\"int64\")"
   ]
  },
  {
   "cell_type": "code",
   "execution_count": 22,
   "id": "8ae77bec-fef2-4a03-8ed2-ccd851bd0531",
   "metadata": {},
   "outputs": [
    {
     "data": {
      "text/plain": [
       "0    0.0\n",
       "1    1.0\n",
       "2    2.0\n",
       "3    3.0\n",
       "4    4.0\n",
       "dtype: float64"
      ]
     },
     "execution_count": 22,
     "metadata": {},
     "output_type": "execute_result"
    }
   ],
   "source": [
    "pd.Series(range(5), dtype=\"float64\")"
   ]
  },
  {
   "cell_type": "code",
   "execution_count": 23,
   "id": "32278d31-e7a8-430e-af5b-deaca3ddb673",
   "metadata": {},
   "outputs": [
    {
     "data": {
      "text/plain": [
       "0     True\n",
       "1    False\n",
       "2     True\n",
       "3    False\n",
       "4     True\n",
       "dtype: bool"
      ]
     },
     "execution_count": 23,
     "metadata": {},
     "output_type": "execute_result"
    }
   ],
   "source": [
    "pd.Series([True, False, True, False, True], dtype=\"bool\")"
   ]
  },
  {
   "cell_type": "code",
   "execution_count": 24,
   "id": "6e1f5cfb-641c-4b23-a4c3-fd0932edf1fe",
   "metadata": {},
   "outputs": [
    {
     "data": {
      "text/plain": [
       "0      manzana\n",
       "1    mandarina\n",
       "2         kiwi\n",
       "3         pina\n",
       "dtype: string"
      ]
     },
     "execution_count": 24,
     "metadata": {},
     "output_type": "execute_result"
    }
   ],
   "source": [
    "pd.Series([\"manzana\", \"mandarina\", \"kiwi\", \"pina\"], dtype=\"string\")"
   ]
  },
  {
   "cell_type": "code",
   "execution_count": 25,
   "id": "7f3e6347-cf04-47a0-a21f-83f4935e8959",
   "metadata": {},
   "outputs": [
    {
     "data": {
      "text/plain": [
       "0   2025-02-01\n",
       "1   2025-02-02\n",
       "2   2025-02-03\n",
       "3   2025-02-04\n",
       "4   2025-02-05\n",
       "dtype: datetime64[ns]"
      ]
     },
     "execution_count": 25,
     "metadata": {},
     "output_type": "execute_result"
    }
   ],
   "source": [
    "pd.Series([\"2025-02-01\", \"2025-02-02\", \"2025-02-03\", \"2025-02-04\", \"2025-02-05\"], dtype=\"datetime64[ns]\")"
   ]
  },
  {
   "cell_type": "code",
   "execution_count": 27,
   "id": "5b65b2dc-1276-4441-9c38-a282166a9ed5",
   "metadata": {},
   "outputs": [
    {
     "data": {
      "text/plain": [
       "0      camisa\n",
       "1    pantalon\n",
       "2      medias\n",
       "3     zapatos\n",
       "4     zapatos\n",
       "dtype: category\n",
       "Categories (4, object): ['camisa', 'medias', 'pantalon', 'zapatos']"
      ]
     },
     "execution_count": 27,
     "metadata": {},
     "output_type": "execute_result"
    }
   ],
   "source": [
    "pd.Series([\"camisa\", \"pantalon\", \"medias\", \"zapatos\", \"zapatos\"], dtype=\"category\")"
   ]
  },
  {
   "cell_type": "code",
   "execution_count": 28,
   "id": "6d5a43c2-25b6-4d63-8a2b-530834d8ba59",
   "metadata": {},
   "outputs": [
    {
     "data": {
      "text/plain": [
       "nan"
      ]
     },
     "execution_count": 28,
     "metadata": {},
     "output_type": "execute_result"
    }
   ],
   "source": [
    "import numpy as np\n",
    "\n",
    "np.nan"
   ]
  },
  {
   "cell_type": "code",
   "execution_count": 29,
   "id": "62430b84-d6e1-468c-9926-c55e87f02fff",
   "metadata": {},
   "outputs": [
    {
     "data": {
      "text/plain": [
       "0    1.0\n",
       "1    2.0\n",
       "2    3.0\n",
       "3    NaN\n",
       "4    4.0\n",
       "5    5.0\n",
       "dtype: float64"
      ]
     },
     "execution_count": 29,
     "metadata": {},
     "output_type": "execute_result"
    }
   ],
   "source": [
    "pd.Series([1, 2, 3, np.nan, 4, 5])"
   ]
  },
  {
   "cell_type": "code",
   "execution_count": 34,
   "id": "d09a0942-f328-4c57-a361-58aa4652dc69",
   "metadata": {},
   "outputs": [
    {
     "data": {
      "text/plain": [
       "0      manzana\n",
       "1    mandarina\n",
       "2          NaN\n",
       "3         pina\n",
       "dtype: object"
      ]
     },
     "execution_count": 34,
     "metadata": {},
     "output_type": "execute_result"
    }
   ],
   "source": [
    "pd.Series([\"manzana\", \"mandarina\", np.nan, \"pina\"])"
   ]
  },
  {
   "cell_type": "code",
   "execution_count": 32,
   "id": "f61a179a-1394-441c-8394-2a610e58c5ab",
   "metadata": {},
   "outputs": [
    {
     "data": {
      "text/plain": [
       "0      manzana\n",
       "1    mandarina\n",
       "2         pina\n",
       "dtype: string"
      ]
     },
     "execution_count": 32,
     "metadata": {},
     "output_type": "execute_result"
    }
   ],
   "source": [
    "pd.Series([\"manzana\", \"mandarina\", \"pina\"], dtype=\"string[pyarrow]\")"
   ]
  },
  {
   "cell_type": "code",
   "execution_count": 33,
   "id": "668db791-9200-44eb-8c0a-670ae6fea152",
   "metadata": {},
   "outputs": [
    {
     "data": {
      "text/plain": [
       "0       1\n",
       "1       2\n",
       "2       3\n",
       "3    <NA>\n",
       "4       4\n",
       "5       5\n",
       "dtype: int64[pyarrow]"
      ]
     },
     "execution_count": 33,
     "metadata": {},
     "output_type": "execute_result"
    }
   ],
   "source": [
    "pd.Series([1, 2, 3, np.nan, 4, 5], dtype=\"int64[pyarrow]\")"
   ]
  },
  {
   "cell_type": "code",
   "execution_count": 35,
   "id": "64424dbd-bdb1-4f54-9145-d962c29ae000",
   "metadata": {},
   "outputs": [
    {
     "data": {
      "text/plain": [
       "0      manzana\n",
       "1    mandarina\n",
       "2         kiwi\n",
       "3         pina\n",
       "4      guayaba\n",
       "dtype: string"
      ]
     },
     "execution_count": 35,
     "metadata": {},
     "output_type": "execute_result"
    }
   ],
   "source": [
    "series = pd.Series([\"manzana\", \"mandarina\", \"kiwi\", \"pina\", \"guayaba\", \"fresa\", \"fresa\", \"pina\", \"manzana\", \"limon\"], dtype=\"string\")\n",
    "series.head()"
   ]
  },
  {
   "cell_type": "code",
   "execution_count": 38,
   "id": "42d90d44-3d41-44dc-b1e4-1afa380239a2",
   "metadata": {},
   "outputs": [
    {
     "data": {
      "text/plain": [
       "0     True\n",
       "1    False\n",
       "2    False\n",
       "3    False\n",
       "4    False\n",
       "5    False\n",
       "6    False\n",
       "7    False\n",
       "8     True\n",
       "9    False\n",
       "dtype: boolean"
      ]
     },
     "execution_count": 38,
     "metadata": {},
     "output_type": "execute_result"
    }
   ],
   "source": [
    "series == \"manzana\""
   ]
  },
  {
   "cell_type": "code",
   "execution_count": 44,
   "id": "0419710b-564e-45c3-b7b7-e9497080223e",
   "metadata": {},
   "outputs": [],
   "source": [
    "mask = series == \"manzana\""
   ]
  },
  {
   "cell_type": "code",
   "execution_count": 45,
   "id": "f6df0e08-73f2-4767-a3b0-4d95cab31396",
   "metadata": {},
   "outputs": [
    {
     "data": {
      "text/plain": [
       "0    manzana\n",
       "8    manzana\n",
       "dtype: string"
      ]
     },
     "execution_count": 45,
     "metadata": {},
     "output_type": "execute_result"
    }
   ],
   "source": [
    "series[mask]"
   ]
  },
  {
   "cell_type": "code",
   "execution_count": 46,
   "id": "53201f50-f4d0-45cc-a578-22214737ceb7",
   "metadata": {},
   "outputs": [],
   "source": [
    "mask = (series == \"manzana\") | (series == \"fresa\")"
   ]
  },
  {
   "cell_type": "code",
   "execution_count": 47,
   "id": "82e01340-38d4-4b4d-9d84-92e4a45f6448",
   "metadata": {},
   "outputs": [
    {
     "data": {
      "text/plain": [
       "0    manzana\n",
       "5      fresa\n",
       "6      fresa\n",
       "8    manzana\n",
       "dtype: string"
      ]
     },
     "execution_count": 47,
     "metadata": {},
     "output_type": "execute_result"
    }
   ],
   "source": [
    "series[mask]"
   ]
  },
  {
   "cell_type": "code",
   "execution_count": 48,
   "id": "1c9e1700-9a85-4b5d-9fe4-f1c9664bdce0",
   "metadata": {},
   "outputs": [
    {
     "data": {
      "text/plain": [
       "1    mandarina\n",
       "2         kiwi\n",
       "3         pina\n",
       "4      guayaba\n",
       "5        fresa\n",
       "6        fresa\n",
       "7         pina\n",
       "9        limon\n",
       "dtype: string"
      ]
     },
     "execution_count": 48,
     "metadata": {},
     "output_type": "execute_result"
    }
   ],
   "source": [
    "mask = series != \"manzana\"\n",
    "series[mask]"
   ]
  },
  {
   "cell_type": "markdown",
   "id": "2747868f-365e-4f9d-a9e0-38840457176e",
   "metadata": {},
   "source": [
    "```\n",
    "mayor: >\n",
    "menor: <\n",
    "igual: ==\n",
    "distinto: !=\n",
    "mayor o igual: >=\n",
    "menor o igual: <=\n",
    "```"
   ]
  },
  {
   "cell_type": "code",
   "execution_count": 49,
   "id": "29977a49-222d-4bad-8d88-eba2367f018f",
   "metadata": {},
   "outputs": [
    {
     "data": {
      "text/plain": [
       "'manzana'"
      ]
     },
     "execution_count": 49,
     "metadata": {},
     "output_type": "execute_result"
    }
   ],
   "source": [
    "series[0]"
   ]
  },
  {
   "cell_type": "code",
   "execution_count": 50,
   "id": "d2d2a504-507c-44f7-a775-ddb42bf4e161",
   "metadata": {},
   "outputs": [
    {
     "data": {
      "text/plain": [
       "'manzana'"
      ]
     },
     "execution_count": 50,
     "metadata": {},
     "output_type": "execute_result"
    }
   ],
   "source": [
    "series.iloc[0]"
   ]
  },
  {
   "cell_type": "code",
   "execution_count": 51,
   "id": "d949c360-2a04-4619-869e-f250120f1778",
   "metadata": {},
   "outputs": [
    {
     "data": {
      "text/plain": [
       "0      manzana\n",
       "1    mandarina\n",
       "2         kiwi\n",
       "dtype: string"
      ]
     },
     "execution_count": 51,
     "metadata": {},
     "output_type": "execute_result"
    }
   ],
   "source": [
    "series.iloc[0:3]"
   ]
  },
  {
   "cell_type": "code",
   "execution_count": 52,
   "id": "be5c5e3f-f0f7-4221-bbca-74749f234341",
   "metadata": {},
   "outputs": [
    {
     "data": {
      "text/plain": [
       "0      manzana\n",
       "1    mandarina\n",
       "2         kiwi\n",
       "dtype: string"
      ]
     },
     "execution_count": 52,
     "metadata": {},
     "output_type": "execute_result"
    }
   ],
   "source": [
    "series.iloc[:3]"
   ]
  },
  {
   "cell_type": "code",
   "execution_count": 53,
   "id": "82c86131-140b-4b93-86d8-c8baac53fce0",
   "metadata": {},
   "outputs": [
    {
     "data": {
      "text/plain": [
       "2       kiwi\n",
       "3       pina\n",
       "4    guayaba\n",
       "5      fresa\n",
       "6      fresa\n",
       "7       pina\n",
       "8    manzana\n",
       "9      limon\n",
       "dtype: string"
      ]
     },
     "execution_count": 53,
     "metadata": {},
     "output_type": "execute_result"
    }
   ],
   "source": [
    "series.iloc[2:]"
   ]
  },
  {
   "cell_type": "code",
   "execution_count": 54,
   "id": "fec64e71-dd2a-4d09-87d0-7e243b7b4795",
   "metadata": {},
   "outputs": [
    {
     "data": {
      "text/plain": [
       "9        limon\n",
       "8      manzana\n",
       "7         pina\n",
       "6        fresa\n",
       "5        fresa\n",
       "4      guayaba\n",
       "3         pina\n",
       "2         kiwi\n",
       "1    mandarina\n",
       "0      manzana\n",
       "dtype: string"
      ]
     },
     "execution_count": 54,
     "metadata": {},
     "output_type": "execute_result"
    }
   ],
   "source": [
    "series[::-1]"
   ]
  },
  {
   "cell_type": "code",
   "execution_count": 55,
   "id": "695ac4f1-9d54-4208-a9bc-f962876f7451",
   "metadata": {},
   "outputs": [
    {
     "data": {
      "text/html": [
       "<div>\n",
       "<style scoped>\n",
       "    .dataframe tbody tr th:only-of-type {\n",
       "        vertical-align: middle;\n",
       "    }\n",
       "\n",
       "    .dataframe tbody tr th {\n",
       "        vertical-align: top;\n",
       "    }\n",
       "\n",
       "    .dataframe thead th {\n",
       "        text-align: right;\n",
       "    }\n",
       "</style>\n",
       "<table border=\"1\" class=\"dataframe\">\n",
       "  <thead>\n",
       "    <tr style=\"text-align: right;\">\n",
       "      <th></th>\n",
       "      <th>frutas</th>\n",
       "      <th>colores</th>\n",
       "      <th>cantidad</th>\n",
       "    </tr>\n",
       "  </thead>\n",
       "  <tbody>\n",
       "    <tr>\n",
       "      <th>0</th>\n",
       "      <td>manzana</td>\n",
       "      <td>rojo</td>\n",
       "      <td>3</td>\n",
       "    </tr>\n",
       "    <tr>\n",
       "      <th>1</th>\n",
       "      <td>mandarina</td>\n",
       "      <td>naranja</td>\n",
       "      <td>5</td>\n",
       "    </tr>\n",
       "    <tr>\n",
       "      <th>2</th>\n",
       "      <td>kiwi</td>\n",
       "      <td>verde</td>\n",
       "      <td>6</td>\n",
       "    </tr>\n",
       "    <tr>\n",
       "      <th>3</th>\n",
       "      <td>pina</td>\n",
       "      <td>amarillo</td>\n",
       "      <td>9</td>\n",
       "    </tr>\n",
       "  </tbody>\n",
       "</table>\n",
       "</div>"
      ],
      "text/plain": [
       "      frutas   colores  cantidad\n",
       "0    manzana      rojo         3\n",
       "1  mandarina   naranja         5\n",
       "2       kiwi     verde         6\n",
       "3       pina  amarillo         9"
      ]
     },
     "execution_count": 55,
     "metadata": {},
     "output_type": "execute_result"
    }
   ],
   "source": [
    "frutas_df"
   ]
  },
  {
   "cell_type": "code",
   "execution_count": 57,
   "id": "c6056e03-ae2f-4f0c-98bd-7171a42f7b62",
   "metadata": {},
   "outputs": [
    {
     "data": {
      "text/html": [
       "<div>\n",
       "<style scoped>\n",
       "    .dataframe tbody tr th:only-of-type {\n",
       "        vertical-align: middle;\n",
       "    }\n",
       "\n",
       "    .dataframe tbody tr th {\n",
       "        vertical-align: top;\n",
       "    }\n",
       "\n",
       "    .dataframe thead th {\n",
       "        text-align: right;\n",
       "    }\n",
       "</style>\n",
       "<table border=\"1\" class=\"dataframe\">\n",
       "  <thead>\n",
       "    <tr style=\"text-align: right;\">\n",
       "      <th></th>\n",
       "      <th>colores</th>\n",
       "      <th>cantidad</th>\n",
       "    </tr>\n",
       "    <tr>\n",
       "      <th>frutas</th>\n",
       "      <th></th>\n",
       "      <th></th>\n",
       "    </tr>\n",
       "  </thead>\n",
       "  <tbody>\n",
       "    <tr>\n",
       "      <th>manzana</th>\n",
       "      <td>rojo</td>\n",
       "      <td>3</td>\n",
       "    </tr>\n",
       "    <tr>\n",
       "      <th>mandarina</th>\n",
       "      <td>naranja</td>\n",
       "      <td>5</td>\n",
       "    </tr>\n",
       "    <tr>\n",
       "      <th>kiwi</th>\n",
       "      <td>verde</td>\n",
       "      <td>6</td>\n",
       "    </tr>\n",
       "    <tr>\n",
       "      <th>pina</th>\n",
       "      <td>amarillo</td>\n",
       "      <td>9</td>\n",
       "    </tr>\n",
       "  </tbody>\n",
       "</table>\n",
       "</div>"
      ],
      "text/plain": [
       "            colores  cantidad\n",
       "frutas                       \n",
       "manzana        rojo         3\n",
       "mandarina   naranja         5\n",
       "kiwi          verde         6\n",
       "pina       amarillo         9"
      ]
     },
     "execution_count": 57,
     "metadata": {},
     "output_type": "execute_result"
    }
   ],
   "source": [
    "frutas_df.index = frutas_df[\"frutas\"]\n",
    "frutas_df.drop(columns=\"frutas\", inplace=True)\n",
    "frutas_df"
   ]
  },
  {
   "cell_type": "code",
   "execution_count": 58,
   "id": "a742edc8-c411-4203-9841-be8cbfd88fae",
   "metadata": {},
   "outputs": [
    {
     "data": {
      "text/plain": [
       "colores     rojo\n",
       "cantidad       3\n",
       "Name: manzana, dtype: object"
      ]
     },
     "execution_count": 58,
     "metadata": {},
     "output_type": "execute_result"
    }
   ],
   "source": [
    "frutas_df.loc[\"manzana\"]"
   ]
  },
  {
   "cell_type": "code",
   "execution_count": 59,
   "id": "529ea9e3-396f-4197-a8a4-93f0c49c78eb",
   "metadata": {},
   "outputs": [
    {
     "data": {
      "text/html": [
       "<div>\n",
       "<style scoped>\n",
       "    .dataframe tbody tr th:only-of-type {\n",
       "        vertical-align: middle;\n",
       "    }\n",
       "\n",
       "    .dataframe tbody tr th {\n",
       "        vertical-align: top;\n",
       "    }\n",
       "\n",
       "    .dataframe thead th {\n",
       "        text-align: right;\n",
       "    }\n",
       "</style>\n",
       "<table border=\"1\" class=\"dataframe\">\n",
       "  <thead>\n",
       "    <tr style=\"text-align: right;\">\n",
       "      <th></th>\n",
       "      <th>colores</th>\n",
       "      <th>cantidad</th>\n",
       "    </tr>\n",
       "    <tr>\n",
       "      <th>frutas</th>\n",
       "      <th></th>\n",
       "      <th></th>\n",
       "    </tr>\n",
       "  </thead>\n",
       "  <tbody>\n",
       "    <tr>\n",
       "      <th>manzana</th>\n",
       "      <td>rojo</td>\n",
       "      <td>3</td>\n",
       "    </tr>\n",
       "  </tbody>\n",
       "</table>\n",
       "</div>"
      ],
      "text/plain": [
       "        colores  cantidad\n",
       "frutas                   \n",
       "manzana    rojo         3"
      ]
     },
     "execution_count": 59,
     "metadata": {},
     "output_type": "execute_result"
    }
   ],
   "source": [
    "frutas_df.loc[[\"manzana\"]]"
   ]
  },
  {
   "cell_type": "code",
   "execution_count": 60,
   "id": "f21a8720-f8b7-4942-8881-9dcc7a98d7d4",
   "metadata": {},
   "outputs": [
    {
     "data": {
      "text/html": [
       "<div>\n",
       "<style scoped>\n",
       "    .dataframe tbody tr th:only-of-type {\n",
       "        vertical-align: middle;\n",
       "    }\n",
       "\n",
       "    .dataframe tbody tr th {\n",
       "        vertical-align: top;\n",
       "    }\n",
       "\n",
       "    .dataframe thead th {\n",
       "        text-align: right;\n",
       "    }\n",
       "</style>\n",
       "<table border=\"1\" class=\"dataframe\">\n",
       "  <thead>\n",
       "    <tr style=\"text-align: right;\">\n",
       "      <th></th>\n",
       "      <th>colores</th>\n",
       "      <th>cantidad</th>\n",
       "    </tr>\n",
       "    <tr>\n",
       "      <th>frutas</th>\n",
       "      <th></th>\n",
       "      <th></th>\n",
       "    </tr>\n",
       "  </thead>\n",
       "  <tbody>\n",
       "    <tr>\n",
       "      <th>manzana</th>\n",
       "      <td>rojo</td>\n",
       "      <td>3</td>\n",
       "    </tr>\n",
       "    <tr>\n",
       "      <th>mandarina</th>\n",
       "      <td>naranja</td>\n",
       "      <td>5</td>\n",
       "    </tr>\n",
       "    <tr>\n",
       "      <th>kiwi</th>\n",
       "      <td>verde</td>\n",
       "      <td>6</td>\n",
       "    </tr>\n",
       "  </tbody>\n",
       "</table>\n",
       "</div>"
      ],
      "text/plain": [
       "           colores  cantidad\n",
       "frutas                      \n",
       "manzana       rojo         3\n",
       "mandarina  naranja         5\n",
       "kiwi         verde         6"
      ]
     },
     "execution_count": 60,
     "metadata": {},
     "output_type": "execute_result"
    }
   ],
   "source": [
    "frutas_df.loc[\"manzana\":\"kiwi\"]"
   ]
  },
  {
   "cell_type": "code",
   "execution_count": null,
   "id": "cbb705d7-a8fa-47fc-80ca-a5904fef811f",
   "metadata": {},
   "outputs": [],
   "source": []
  }
 ],
 "metadata": {
  "kernelspec": {
   "display_name": "Python 3 (ipykernel)",
   "language": "python",
   "name": "python3"
  },
  "language_info": {
   "codemirror_mode": {
    "name": "ipython",
    "version": 3
   },
   "file_extension": ".py",
   "mimetype": "text/x-python",
   "name": "python",
   "nbconvert_exporter": "python",
   "pygments_lexer": "ipython3",
   "version": "3.13.2"
  }
 },
 "nbformat": 4,
 "nbformat_minor": 5
}
